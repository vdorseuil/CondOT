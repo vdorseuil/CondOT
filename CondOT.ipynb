{
 "cells": [
  {
   "cell_type": "markdown",
   "metadata": {},
   "source": [
    "## Imports"
   ]
  },
  {
   "cell_type": "code",
   "execution_count": 1,
   "metadata": {},
   "outputs": [],
   "source": [
    "import torch\n",
    "import torch.nn as nn\n",
    "import scipy.stats as stats\n",
    "import numpy as np\n",
    "from torch.utils.data import Dataset, DataLoader\n",
    "from torch import optim\n",
    "import matplotlib.pyplot as plt"
   ]
  },
  {
   "cell_type": "code",
   "execution_count": 2,
   "metadata": {},
   "outputs": [],
   "source": [
    "from icnnet import ICNNet\n",
    "from mydataset import MyDataset\n",
    "import toy_data_dataloader_gaussian\n",
    "\n",
    "from gaussian_transport import compute_A, compute_w, guassian_transport"
   ]
  },
  {
   "cell_type": "code",
   "execution_count": 3,
   "metadata": {},
   "outputs": [],
   "source": [
    "%load_ext autoreload\n",
    "%autoreload 2"
   ]
  },
  {
   "cell_type": "markdown",
   "metadata": {},
   "source": [
    "## Toy data\n"
   ]
  },
  {
   "cell_type": "code",
   "execution_count": 4,
   "metadata": {},
   "outputs": [],
   "source": [
    "dataloader, locs, scales = toy_data_dataloader_gaussian.get_dataloader(N = 500, batch_size = 100, r = 250)"
   ]
  },
  {
   "cell_type": "code",
   "execution_count": 5,
   "metadata": {},
   "outputs": [],
   "source": [
    "cov1 = np.eye(2)\n",
    "cov2 = np.eye(2)\n",
    "m1 = np.zeros(2)\n",
    "m2 = np.ones(2)\n",
    "\n",
    "A = compute_A(cov1, cov2)\n",
    "w = compute_w(m1, m2, A)"
   ]
  },
  {
   "cell_type": "code",
   "execution_count": 6,
   "metadata": {},
   "outputs": [
    {
     "name": "stderr",
     "output_type": "stream",
     "text": [
      "c:\\Users\\dmgtr\\OneDrive - Ecole Polytechnique\\3A\\P2\\MAP588 - EA CondOT\\CondOT\\gaussian_transport.py:29: UserWarning: To copy construct from a tensor, it is recommended to use sourceTensor.clone().detach() or sourceTensor.clone().detach().requires_grad_(True), rather than torch.tensor(sourceTensor).\n",
      "  u = torch.tensor(u)\n"
     ]
    }
   ],
   "source": [
    "x = list()\n",
    "c = list()\n",
    "y_transport = list()\n",
    "for x_batch, c_batch, y_batch in dataloader:\n",
    "    x.append(x_batch)\n",
    "    c.append(c_batch)\n",
    "    results = []\n",
    "    for i in range(x_batch.shape[0]):\n",
    "        for j in range(x_batch.shape[1]):\n",
    "            result = guassian_transport(x_batch[i, j], A, w)\n",
    "            results.append(result)\n",
    "    y_transport.append(torch.stack(results).reshape((x_batch.shape[0], x_batch.shape[1],1)))\n",
    "\n",
    "X = torch.cat(x, dim = 0)\n",
    "C = torch.cat(c, dim = 0)\n",
    "Y = torch.cat(y_transport, dim = 0).float()\n",
    "\n",
    "gaussian_dataset = MyDataset(X, C, Y)\n",
    "gaussian_dataloader = DataLoader(gaussian_dataset, batch_size=100, shuffle=True)"
   ]
  },
  {
   "cell_type": "markdown",
   "metadata": {},
   "source": [
    "## __Training__"
   ]
  },
  {
   "cell_type": "markdown",
   "metadata": {},
   "source": [
    "### PICNN training"
   ]
  },
  {
   "cell_type": "code",
   "execution_count": 7,
   "metadata": {},
   "outputs": [
    {
     "name": "stderr",
     "output_type": "stream",
     "text": [
      "c:\\Users\\dmgtr\\AppData\\Local\\Programs\\Python\\Python311\\Lib\\site-packages\\tqdm\\auto.py:21: TqdmWarning: IProgress not found. Please update jupyter and ipywidgets. See https://ipywidgets.readthedocs.io/en/stable/user_install.html\n",
      "  from .autonotebook import tqdm as notebook_tqdm\n"
     ]
    },
    {
     "name": "stdout",
     "output_type": "stream",
     "text": [
      "Epoch 1/50 Loss: 6.554605484008789\n",
      "Epoch 2/50 Loss: 5.836794376373291\n",
      "Epoch 3/50 Loss: 5.104841709136963\n",
      "Epoch 4/50 Loss: 4.017573356628418\n",
      "Epoch 5/50 Loss: 2.928358554840088\n",
      "Epoch 6/50 Loss: 2.949169158935547\n",
      "Epoch 7/50 Loss: 2.3585920333862305\n",
      "Epoch 8/50 Loss: 2.13569712638855\n",
      "Epoch 9/50 Loss: 1.8547364473342896\n",
      "Epoch 10/50 Loss: 1.5592248439788818\n",
      "Epoch 11/50 Loss: 1.3058593273162842\n",
      "Epoch 12/50 Loss: 1.0201644897460938\n",
      "Epoch 13/50 Loss: 0.8674371242523193\n",
      "Epoch 14/50 Loss: 0.7564027905464172\n",
      "Epoch 15/50 Loss: 0.7203813195228577\n",
      "Epoch 16/50 Loss: 0.6658594012260437\n",
      "Epoch 17/50 Loss: 0.6531573534011841\n",
      "Epoch 18/50 Loss: 0.5936728715896606\n",
      "Epoch 19/50 Loss: 0.563045084476471\n",
      "Epoch 20/50 Loss: 0.493049293756485\n",
      "Epoch 21/50 Loss: 0.454978346824646\n",
      "Epoch 22/50 Loss: 0.3802928924560547\n",
      "Epoch 23/50 Loss: 0.3088463544845581\n",
      "Epoch 24/50 Loss: 0.2250494658946991\n",
      "Epoch 25/50 Loss: 0.14717498421669006\n",
      "Epoch 26/50 Loss: 0.07440563291311264\n",
      "Epoch 27/50 Loss: 0.04437847062945366\n",
      "Epoch 28/50 Loss: 0.048772454261779785\n",
      "Epoch 29/50 Loss: 0.05090833827853203\n",
      "Epoch 30/50 Loss: 0.043254222720861435\n",
      "Epoch 31/50 Loss: 0.03759247064590454\n",
      "Epoch 32/50 Loss: 0.03495613858103752\n",
      "Epoch 33/50 Loss: 0.031822312623262405\n",
      "Epoch 34/50 Loss: 0.03102715313434601\n",
      "Epoch 35/50 Loss: 0.029532983899116516\n",
      "Epoch 36/50 Loss: 0.02658286690711975\n",
      "Epoch 37/50 Loss: 0.025574419647455215\n",
      "Epoch 38/50 Loss: 0.023688476532697678\n",
      "Epoch 39/50 Loss: 0.024446962401270866\n",
      "Epoch 40/50 Loss: 0.021627036854624748\n",
      "Epoch 41/50 Loss: 0.018589604645967484\n",
      "Epoch 42/50 Loss: 0.017360681667923927\n",
      "Epoch 43/50 Loss: 0.018518483266234398\n",
      "Epoch 44/50 Loss: 0.01591646298766136\n",
      "Epoch 45/50 Loss: 0.014734093099832535\n",
      "Epoch 46/50 Loss: 0.013332225382328033\n",
      "Epoch 47/50 Loss: 0.011967797763645649\n",
      "Epoch 48/50 Loss: 0.01245654746890068\n",
      "Epoch 49/50 Loss: 0.012210595421493053\n",
      "Epoch 50/50 Loss: 0.010677823796868324\n"
     ]
    }
   ],
   "source": [
    "epochs = 50\n",
    "\n",
    "# Initialize the model\n",
    "input_size = 2\n",
    "output_size = 1\n",
    "\n",
    "model = ICNNet(input_size = input_size, layer_sizes = [input_size, 64, 64, 64,output_size], context_layer_sizes=[input_size, 64, 64, 64,output_size])\n",
    "\n",
    "# Define the loss function and the optimizer\n",
    "criterion = nn.MSELoss()\n",
    "optimizer = optim.Adam(model.parameters())\n",
    "\n",
    "for epoch in range(epochs):\n",
    "    for x_batch, c_batch, y_batch in gaussian_dataloader:\n",
    "        x_batch.requires_grad_(True)\n",
    "        c_batch.requires_grad_(True)\n",
    "\n",
    "        optimizer.zero_grad() # Zero the gradients\n",
    "        \n",
    "        output = model(x_batch, c_batch)  # Assuming context c is same as input x\n",
    "\n",
    "        loss = criterion(output, y_batch) # Compute the loss\n",
    "        loss.backward() # Backward pass\n",
    "\n",
    "        optimizer.step() # Update the parameters\n",
    "        for layers_k in model.layers_z:\n",
    "            for param in layers_k.parameters():\n",
    "                param.data.clamp_min_(0)\n",
    "\n",
    "    # for name, parameter in model.named_parameters():\n",
    "    #     if parameter.requires_grad and parameter.grad is not None:\n",
    "    #         grad_norm = parameter.grad.norm().item()\n",
    "    #         print(f\"Gradient norm for {name}: {grad_norm}\")\n",
    "    \n",
    "    print(f\"Epoch {epoch+1}/{epochs} Loss: {loss.item()}\")"
   ]
  },
  {
   "cell_type": "code",
   "execution_count": 41,
   "metadata": {},
   "outputs": [
    {
     "data": {
      "image/png": "[encoded data removed]",
      "text/plain": [
       "<Figure size 640x480 with 1 Axes>"
      ]
     },
     "metadata": {},
     "output_type": "display_data"
    }
   ],
   "source": [
    "X = gaussian_dataloader.dataset.X\n",
    "Y = gaussian_dataloader.dataset.Y\n",
    "C = gaussian_dataloader.dataset.C\n",
    "\n",
    "#Calcul de la dérivée du PICNN\n",
    "\n",
    "test = 2\n",
    "x_i = X[test, :, :]\n",
    "y_i = Y[test, :, :]\n",
    "c_i = C[test, :, :]\n",
    "\n",
    "\n",
    "y_i.requires_grad_(True)\n",
    "x_i.requires_grad_(True)\n",
    "#c_i.requires_grad_(True)    \n",
    "\n",
    "output_model = model(x_i, c_i)\n",
    "\n",
    "grad_model = torch.autograd.grad(outputs=output_model, inputs=x_i, grad_outputs=torch.ones_like(output_model), create_graph=True)[0]\n",
    "\n",
    "plt.hist(X[test, :, 0],  bins=15, label = 'X', density = True)\n",
    "plt.hist(Y[test, :, 0],  bins=15, label = 'Y', density = True)\n",
    "plt.hist(grad_model[:, 0].detach().numpy(),  bins=15, label = 'grad_model', density = True, alpha = 0.5)\n",
    "# plt.hist(X_pred,  bins=15, label = 'X_pred', density = True, alpha = 0.5)\n",
    "plt.plot(np.linspace(-3, 3, 300), stats.norm.pdf(np.linspace(-3, 3, 300), loc=0, scale=1), label = 'X_distrib', color = 'blue')\n",
    "plt.plot(np.linspace(-3*scales[test, 0] + locs[test, 0], 3*scales[test, 0] + locs[test, 0], 300), stats.norm.pdf(np.linspace(-3*scales[test, 0] + locs[test, 0], 3*scales[test, 0] + locs[test, 0], 300), loc=locs[test, 0], scale=scales[test, 0]), label = 'Y_distrib', color = 'red')\n",
    "\n",
    "plt.legend()\n",
    "\n",
    "plt.show()"
   ]
  },
  {
   "cell_type": "markdown",
   "metadata": {},
   "source": [
    "### PICNN training"
   ]
  },
  {
   "cell_type": "markdown",
   "metadata": {},
   "source": [
    "## __Makkuva__"
   ]
  },
  {
   "cell_type": "code",
   "execution_count": 34,
   "metadata": {},
   "outputs": [
    {
     "data": {
      "text/plain": [
       "<All keys matched successfully>"
      ]
     },
     "execution_count": 34,
     "metadata": {},
     "output_type": "execute_result"
    }
   ],
   "source": [
    "# Initialize the model\n",
    "input_size = 2\n",
    "output_size = 1\n",
    "\n",
    "ICNNf = ICNNet(input_size = input_size, layer_sizes = [input_size, 64, 64, 64,output_size], context_layer_sizes=[input_size, 64, 64, 64,output_size])\n",
    "ICNNg = ICNNet(input_size = input_size, layer_sizes = [input_size, 64, 64, 64,output_size], context_layer_sizes=[input_size, 64, 64, 64,output_size])\n",
    "\n",
    "# Get the state dictionary from the trained model\n",
    "state_dict = model.state_dict()\n",
    "\n",
    "# Load the state dictionary into ICNNf and ICNNg\n",
    "ICNNf.load_state_dict(state_dict)\n",
    "ICNNg.load_state_dict(state_dict)"
   ]
  },
  {
   "cell_type": "code",
   "execution_count": 45,
   "metadata": {},
   "outputs": [
    {
     "name": "stdout",
     "output_type": "stream",
     "text": [
      "Epoch 1/100 loss_g: 0.38431915640830994, loss_f: 1.0480364561080933\n",
      "Epoch 2/100 loss_g: -16.439563751220703, loss_f: -255.5638427734375\n",
      "Epoch 3/100 loss_g: 0.1525118499994278, loss_f: 1.3927627801895142\n",
      "Epoch 4/100 loss_g: 0.4902627468109131, loss_f: 2.7168824672698975\n"
     ]
    },
    {
     "ename": "KeyboardInterrupt",
     "evalue": "",
     "output_type": "error",
     "traceback": [
      "\u001b[1;31m---------------------------------------------------------------------------\u001b[0m",
      "\u001b[1;31mKeyboardInterrupt\u001b[0m                         Traceback (most recent call last)",
      "Cell \u001b[1;32mIn[45], line 22\u001b[0m\n\u001b[0;32m     19\u001b[0m output_g \u001b[38;5;241m=\u001b[39m ICNNg(y, c)\n\u001b[0;32m     20\u001b[0m grad_g \u001b[38;5;241m=\u001b[39m torch\u001b[38;5;241m.\u001b[39mautograd\u001b[38;5;241m.\u001b[39mgrad(output_g, y, grad_outputs\u001b[38;5;241m=\u001b[39mtorch\u001b[38;5;241m.\u001b[39mones_like(output_g), create_graph\u001b[38;5;241m=\u001b[39m\u001b[38;5;28;01mTrue\u001b[39;00m)[\u001b[38;5;241m0\u001b[39m]\n\u001b[1;32m---> 22\u001b[0m loss_g \u001b[38;5;241m=\u001b[39m \u001b[43mICNNf\u001b[49m\u001b[43m(\u001b[49m\u001b[43mgrad_g\u001b[49m\u001b[43m,\u001b[49m\u001b[43m \u001b[49m\u001b[43mc\u001b[49m\u001b[43m)\u001b[49m \u001b[38;5;241m-\u001b[39m torch\u001b[38;5;241m.\u001b[39msum(y \u001b[38;5;241m*\u001b[39m grad_g, dim\u001b[38;5;241m=\u001b[39m\u001b[38;5;241m-\u001b[39m\u001b[38;5;241m1\u001b[39m, keepdim\u001b[38;5;241m=\u001b[39m\u001b[38;5;28;01mTrue\u001b[39;00m)\n\u001b[0;32m     23\u001b[0m loss_g \u001b[38;5;241m=\u001b[39m loss_g\u001b[38;5;241m.\u001b[39mmean(dim\u001b[38;5;241m=\u001b[39m(\u001b[38;5;241m1\u001b[39m, \u001b[38;5;241m2\u001b[39m))\u001b[38;5;241m.\u001b[39mmean()\n\u001b[0;32m     25\u001b[0m \u001b[38;5;66;03m#print('min f(grad_g, c)', ICNNf(grad_g, c)[0][0])\u001b[39;00m\n\u001b[0;32m     26\u001b[0m \u001b[38;5;66;03m#print('max f(grad_g, c)', torch.sum(y * grad_g, dim=-1, keepdim=True)[0][0])\u001b[39;00m\n",
      "File \u001b[1;32mc:\\Users\\dmgtr\\AppData\\Local\\Programs\\Python\\Python311\\Lib\\site-packages\\torch\\nn\\modules\\module.py:1518\u001b[0m, in \u001b[0;36mModule._wrapped_call_impl\u001b[1;34m(self, *args, **kwargs)\u001b[0m\n\u001b[0;32m   1516\u001b[0m     \u001b[38;5;28;01mreturn\u001b[39;00m \u001b[38;5;28mself\u001b[39m\u001b[38;5;241m.\u001b[39m_compiled_call_impl(\u001b[38;5;241m*\u001b[39margs, \u001b[38;5;241m*\u001b[39m\u001b[38;5;241m*\u001b[39mkwargs)  \u001b[38;5;66;03m# type: ignore[misc]\u001b[39;00m\n\u001b[0;32m   1517\u001b[0m \u001b[38;5;28;01melse\u001b[39;00m:\n\u001b[1;32m-> 1518\u001b[0m     \u001b[38;5;28;01mreturn\u001b[39;00m \u001b[38;5;28;43mself\u001b[39;49m\u001b[38;5;241;43m.\u001b[39;49m\u001b[43m_call_impl\u001b[49m\u001b[43m(\u001b[49m\u001b[38;5;241;43m*\u001b[39;49m\u001b[43margs\u001b[49m\u001b[43m,\u001b[49m\u001b[43m \u001b[49m\u001b[38;5;241;43m*\u001b[39;49m\u001b[38;5;241;43m*\u001b[39;49m\u001b[43mkwargs\u001b[49m\u001b[43m)\u001b[49m\n",
      "File \u001b[1;32mc:\\Users\\dmgtr\\AppData\\Local\\Programs\\Python\\Python311\\Lib\\site-packages\\torch\\nn\\modules\\module.py:1527\u001b[0m, in \u001b[0;36mModule._call_impl\u001b[1;34m(self, *args, **kwargs)\u001b[0m\n\u001b[0;32m   1522\u001b[0m \u001b[38;5;66;03m# If we don't have any hooks, we want to skip the rest of the logic in\u001b[39;00m\n\u001b[0;32m   1523\u001b[0m \u001b[38;5;66;03m# this function, and just call forward.\u001b[39;00m\n\u001b[0;32m   1524\u001b[0m \u001b[38;5;28;01mif\u001b[39;00m \u001b[38;5;129;01mnot\u001b[39;00m (\u001b[38;5;28mself\u001b[39m\u001b[38;5;241m.\u001b[39m_backward_hooks \u001b[38;5;129;01mor\u001b[39;00m \u001b[38;5;28mself\u001b[39m\u001b[38;5;241m.\u001b[39m_backward_pre_hooks \u001b[38;5;129;01mor\u001b[39;00m \u001b[38;5;28mself\u001b[39m\u001b[38;5;241m.\u001b[39m_forward_hooks \u001b[38;5;129;01mor\u001b[39;00m \u001b[38;5;28mself\u001b[39m\u001b[38;5;241m.\u001b[39m_forward_pre_hooks\n\u001b[0;32m   1525\u001b[0m         \u001b[38;5;129;01mor\u001b[39;00m _global_backward_pre_hooks \u001b[38;5;129;01mor\u001b[39;00m _global_backward_hooks\n\u001b[0;32m   1526\u001b[0m         \u001b[38;5;129;01mor\u001b[39;00m _global_forward_hooks \u001b[38;5;129;01mor\u001b[39;00m _global_forward_pre_hooks):\n\u001b[1;32m-> 1527\u001b[0m     \u001b[38;5;28;01mreturn\u001b[39;00m \u001b[43mforward_call\u001b[49m\u001b[43m(\u001b[49m\u001b[38;5;241;43m*\u001b[39;49m\u001b[43margs\u001b[49m\u001b[43m,\u001b[49m\u001b[43m \u001b[49m\u001b[38;5;241;43m*\u001b[39;49m\u001b[38;5;241;43m*\u001b[39;49m\u001b[43mkwargs\u001b[49m\u001b[43m)\u001b[49m\n\u001b[0;32m   1529\u001b[0m \u001b[38;5;28;01mtry\u001b[39;00m:\n\u001b[0;32m   1530\u001b[0m     result \u001b[38;5;241m=\u001b[39m \u001b[38;5;28;01mNone\u001b[39;00m\n",
      "File \u001b[1;32mc:\\Users\\dmgtr\\OneDrive - Ecole Polytechnique\\3A\\P2\\MAP588 - EA CondOT\\CondOT\\icnnet.py:61\u001b[0m, in \u001b[0;36mICNNet.forward\u001b[1;34m(self, x, c)\u001b[0m\n\u001b[0;32m     59\u001b[0m     u \u001b[38;5;241m=\u001b[39m \u001b[38;5;28mself\u001b[39m\u001b[38;5;241m.\u001b[39mlayers_v[i](u)\n\u001b[0;32m     60\u001b[0m \u001b[38;5;28;01melse\u001b[39;00m : \n\u001b[1;32m---> 61\u001b[0m     z \u001b[38;5;241m=\u001b[39m \u001b[38;5;28mself\u001b[39m\u001b[38;5;241m.\u001b[39mlayers_activation[i](\u001b[38;5;28mself\u001b[39m\u001b[38;5;241m.\u001b[39mlayers_z[i](z \u001b[38;5;241m*\u001b[39m \u001b[38;5;28mself\u001b[39m\u001b[38;5;241m.\u001b[39mlayers_zu[i](u)) \u001b[38;5;241m+\u001b[39m \u001b[38;5;28;43mself\u001b[39;49m\u001b[38;5;241;43m.\u001b[39;49m\u001b[43mlayers_x\u001b[49m\u001b[43m[\u001b[49m\u001b[43mi\u001b[49m\u001b[43m]\u001b[49m\u001b[43m(\u001b[49m\u001b[38;5;28;43minput\u001b[39;49m\u001b[43m \u001b[49m\u001b[38;5;241;43m*\u001b[39;49m\u001b[43m \u001b[49m\u001b[38;5;28;43mself\u001b[39;49m\u001b[38;5;241;43m.\u001b[39;49m\u001b[43mlayers_xu\u001b[49m\u001b[43m[\u001b[49m\u001b[43mi\u001b[49m\u001b[43m]\u001b[49m\u001b[43m(\u001b[49m\u001b[43mu\u001b[49m\u001b[43m)\u001b[49m\u001b[43m)\u001b[49m \u001b[38;5;241m+\u001b[39m \u001b[38;5;28mself\u001b[39m\u001b[38;5;241m.\u001b[39mlayers_u[i](u))\n\u001b[0;32m     62\u001b[0m     u \u001b[38;5;241m=\u001b[39m \u001b[38;5;28mself\u001b[39m\u001b[38;5;241m.\u001b[39mlayers_v[i](u)\n\u001b[0;32m     65\u001b[0m \u001b[38;5;66;03m# z_shape = z.shape\u001b[39;00m\n\u001b[0;32m     66\u001b[0m \u001b[38;5;66;03m# z = z.view(-1, z.shape[-1])\u001b[39;00m\n\u001b[0;32m     67\u001b[0m \u001b[38;5;66;03m# # Apply batch normalization\u001b[39;00m\n\u001b[1;32m   (...)\u001b[0m\n\u001b[0;32m     76\u001b[0m \u001b[38;5;66;03m# # Reshape accordingly\u001b[39;00m\n\u001b[0;32m     77\u001b[0m \u001b[38;5;66;03m# u = u.view(u_shape)\u001b[39;00m\n",
      "File \u001b[1;32mc:\\Users\\dmgtr\\AppData\\Local\\Programs\\Python\\Python311\\Lib\\site-packages\\torch\\nn\\modules\\module.py:1518\u001b[0m, in \u001b[0;36mModule._wrapped_call_impl\u001b[1;34m(self, *args, **kwargs)\u001b[0m\n\u001b[0;32m   1516\u001b[0m     \u001b[38;5;28;01mreturn\u001b[39;00m \u001b[38;5;28mself\u001b[39m\u001b[38;5;241m.\u001b[39m_compiled_call_impl(\u001b[38;5;241m*\u001b[39margs, \u001b[38;5;241m*\u001b[39m\u001b[38;5;241m*\u001b[39mkwargs)  \u001b[38;5;66;03m# type: ignore[misc]\u001b[39;00m\n\u001b[0;32m   1517\u001b[0m \u001b[38;5;28;01melse\u001b[39;00m:\n\u001b[1;32m-> 1518\u001b[0m     \u001b[38;5;28;01mreturn\u001b[39;00m \u001b[38;5;28;43mself\u001b[39;49m\u001b[38;5;241;43m.\u001b[39;49m\u001b[43m_call_impl\u001b[49m\u001b[43m(\u001b[49m\u001b[38;5;241;43m*\u001b[39;49m\u001b[43margs\u001b[49m\u001b[43m,\u001b[49m\u001b[43m \u001b[49m\u001b[38;5;241;43m*\u001b[39;49m\u001b[38;5;241;43m*\u001b[39;49m\u001b[43mkwargs\u001b[49m\u001b[43m)\u001b[49m\n",
      "File \u001b[1;32mc:\\Users\\dmgtr\\AppData\\Local\\Programs\\Python\\Python311\\Lib\\site-packages\\torch\\nn\\modules\\module.py:1527\u001b[0m, in \u001b[0;36mModule._call_impl\u001b[1;34m(self, *args, **kwargs)\u001b[0m\n\u001b[0;32m   1522\u001b[0m \u001b[38;5;66;03m# If we don't have any hooks, we want to skip the rest of the logic in\u001b[39;00m\n\u001b[0;32m   1523\u001b[0m \u001b[38;5;66;03m# this function, and just call forward.\u001b[39;00m\n\u001b[0;32m   1524\u001b[0m \u001b[38;5;28;01mif\u001b[39;00m \u001b[38;5;129;01mnot\u001b[39;00m (\u001b[38;5;28mself\u001b[39m\u001b[38;5;241m.\u001b[39m_backward_hooks \u001b[38;5;129;01mor\u001b[39;00m \u001b[38;5;28mself\u001b[39m\u001b[38;5;241m.\u001b[39m_backward_pre_hooks \u001b[38;5;129;01mor\u001b[39;00m \u001b[38;5;28mself\u001b[39m\u001b[38;5;241m.\u001b[39m_forward_hooks \u001b[38;5;129;01mor\u001b[39;00m \u001b[38;5;28mself\u001b[39m\u001b[38;5;241m.\u001b[39m_forward_pre_hooks\n\u001b[0;32m   1525\u001b[0m         \u001b[38;5;129;01mor\u001b[39;00m _global_backward_pre_hooks \u001b[38;5;129;01mor\u001b[39;00m _global_backward_hooks\n\u001b[0;32m   1526\u001b[0m         \u001b[38;5;129;01mor\u001b[39;00m _global_forward_hooks \u001b[38;5;129;01mor\u001b[39;00m _global_forward_pre_hooks):\n\u001b[1;32m-> 1527\u001b[0m     \u001b[38;5;28;01mreturn\u001b[39;00m \u001b[43mforward_call\u001b[49m\u001b[43m(\u001b[49m\u001b[38;5;241;43m*\u001b[39;49m\u001b[43margs\u001b[49m\u001b[43m,\u001b[49m\u001b[43m \u001b[49m\u001b[38;5;241;43m*\u001b[39;49m\u001b[38;5;241;43m*\u001b[39;49m\u001b[43mkwargs\u001b[49m\u001b[43m)\u001b[49m\n\u001b[0;32m   1529\u001b[0m \u001b[38;5;28;01mtry\u001b[39;00m:\n\u001b[0;32m   1530\u001b[0m     result \u001b[38;5;241m=\u001b[39m \u001b[38;5;28;01mNone\u001b[39;00m\n",
      "File \u001b[1;32mc:\\Users\\dmgtr\\AppData\\Local\\Programs\\Python\\Python311\\Lib\\site-packages\\torch\\nn\\modules\\linear.py:114\u001b[0m, in \u001b[0;36mLinear.forward\u001b[1;34m(self, input)\u001b[0m\n\u001b[0;32m    113\u001b[0m \u001b[38;5;28;01mdef\u001b[39;00m \u001b[38;5;21mforward\u001b[39m(\u001b[38;5;28mself\u001b[39m, \u001b[38;5;28minput\u001b[39m: Tensor) \u001b[38;5;241m-\u001b[39m\u001b[38;5;241m>\u001b[39m Tensor:\n\u001b[1;32m--> 114\u001b[0m     \u001b[38;5;28;01mreturn\u001b[39;00m \u001b[43mF\u001b[49m\u001b[38;5;241;43m.\u001b[39;49m\u001b[43mlinear\u001b[49m\u001b[43m(\u001b[49m\u001b[38;5;28;43minput\u001b[39;49m\u001b[43m,\u001b[49m\u001b[43m \u001b[49m\u001b[38;5;28;43mself\u001b[39;49m\u001b[38;5;241;43m.\u001b[39;49m\u001b[43mweight\u001b[49m\u001b[43m,\u001b[49m\u001b[43m \u001b[49m\u001b[38;5;28;43mself\u001b[39;49m\u001b[38;5;241;43m.\u001b[39;49m\u001b[43mbias\u001b[49m\u001b[43m)\u001b[49m\n",
      "\u001b[1;31mKeyboardInterrupt\u001b[0m: "
     ]
    }
   ],
   "source": [
    "epochs = 100\n",
    "train_freq_g = 10\n",
    "\n",
    "# Define the loss function and the optimizer\n",
    "optimizer_f = optim.Adam(ICNNf.parameters(), lr = 0.001)\n",
    "optimizer_g = optim.Adam(ICNNg.parameters(), lr = 0.001)\n",
    "\n",
    "for epoch in range(epochs):\n",
    "    for freq in range(train_freq_g) :\n",
    "        for x, c, y in dataloader:\n",
    "            # Optimizing ICNNg\n",
    "            optimizer_f.zero_grad() # Zero the gradients\n",
    "            optimizer_g.zero_grad() # Zero the gradients\n",
    "\n",
    "            x.requires_grad_(True)\n",
    "            y.requires_grad_(True)\n",
    "            c.requires_grad_(True)\n",
    "\n",
    "            output_g = ICNNg(y, c)\n",
    "            grad_g = torch.autograd.grad(output_g, y, grad_outputs=torch.ones_like(output_g), create_graph=True)[0]\n",
    "\n",
    "            loss_g = ICNNf(grad_g, c) - torch.sum(y * grad_g, dim=-1, keepdim=True)\n",
    "            loss_g = loss_g.mean(dim=(1, 2)).mean()\n",
    "\n",
    "            #print('min f(grad_g, c)', ICNNf(grad_g, c)[0][0])\n",
    "            #print('max f(grad_g, c)', torch.sum(y * grad_g, dim=-1, keepdim=True)[0][0])\n",
    "\n",
    "            loss_g.backward() # Backward pass\n",
    "            optimizer_g.step() # Update the parameters\n",
    "\n",
    "            for layers_k in ICNNg.layers_z:\n",
    "                for param in layers_k.parameters():\n",
    "                    param.data.clamp_min_(0)\n",
    "                    \n",
    "            # for name, parameter in ICNNg.named_parameters():\n",
    "            #     if parameter.requires_grad and parameter.grad is not None:\n",
    "            #         grad_norm = parameter.grad.norm().item()\n",
    "            #         print(f\"Gradient norm for {name}: {grad_norm}\")\n",
    "                    \n",
    "            #print(f\"training g {freq+1}/{train_freq_g} loss_g: {loss_g.item()}\")\n",
    "\n",
    "    for x, c, y in dataloader:\n",
    "        optimizer_f.zero_grad() # Zero the gradients\n",
    "        optimizer_g.zero_grad()\n",
    "\n",
    "        x.requires_grad_(True)\n",
    "        y.requires_grad_(True)\n",
    "        c.requires_grad_(True)\n",
    "    \n",
    "        output_g = ICNNg(y, c)\n",
    "        grad_g = torch.autograd.grad(outputs=output_g, inputs=y, grad_outputs=torch.ones_like(output_g), create_graph=True)[0]\n",
    "\n",
    "        #print('ICNNf(grad_g, c)', ICNNf(grad_g, c))\n",
    "\n",
    "        loss_f = ICNNf(x, c) - ICNNf(grad_g, c)\n",
    "        #loss_f =  torch.mean(loss_f)\n",
    "        loss_f =   torch.mean(loss_f) #page 24, f is updated by fixing g and maximizing (15) with a single iteration\n",
    "\n",
    "        #print('max f(grad_g, c)', ICNNf(grad_g, c)[0][0])\n",
    "\n",
    "        loss_f.backward() # Backward pass\n",
    "        optimizer_f.step()\n",
    "        \n",
    "        for layers_k in ICNNf.layers_z:\n",
    "                for param in layers_k.parameters():\n",
    "                    param.data.clamp_min_(0)\n",
    "\n",
    "        # for name, parameter in ICNNf.named_parameters():\n",
    "        #     if parameter.requires_grad and parameter.grad is not None:\n",
    "        #         grad_norm = parameter.grad.norm().item()\n",
    "        #         print(f\"Gradient norm for {name}: {grad_norm}\")\n",
    "        \n",
    "    print(f\"Epoch {epoch+1}/{epochs} loss_g: {loss_g.item()}, loss_f: {loss_f.item()}\")"
   ]
  },
  {
   "cell_type": "code",
   "execution_count": null,
   "metadata": {},
   "outputs": [],
   "source": [
    "filename_pth_f = 'ICNNf_64_4_uniform_50epochs.pth'\n",
    "filename_pth_g = 'ICNNf_64_4_uniform_50epochs.pth'\n",
    "\n",
    "torch.save(ICNNf.state_dict(), filename_pth_f)\n",
    "torch.save(ICNNg.state_dict(), filename_pth_g)"
   ]
  },
  {
   "cell_type": "code",
   "execution_count": null,
   "metadata": {},
   "outputs": [
    {
     "data": {
      "text/plain": [
       "<All keys matched successfully>"
      ]
     },
     "execution_count": 45,
     "metadata": {},
     "output_type": "execute_result"
    }
   ],
   "source": [
    "ICNNf = ICNNet(input_size = 2, layer_sizes = [input_size,64,64,64,64,output_size], context_layer_sizes=[input_size,64,64,64,64,output_size])\n",
    "ICNNf.load_state_dict(torch.load(filename_pth_f))\n",
    "\n",
    "ICNNg = ICNNet(input_size = 2, layer_sizes = [output_size,64,64,64,64,input_size], context_layer_sizes=[output_size,64,64,64,64,input_size])\n",
    "ICNNg.load_state_dict(torch.load(filename_pth_g))"
   ]
  },
  {
   "cell_type": "code",
   "execution_count": 48,
   "metadata": {},
   "outputs": [
    {
     "data": {
      "image/png": "[encoded data removed]",
      "text/plain": [
       "<Figure size 640x480 with 1 Axes>"
      ]
     },
     "metadata": {},
     "output_type": "display_data"
    }
   ],
   "source": [
    "X = dataloader.dataset.X\n",
    "Y = dataloader.dataset.Y\n",
    "C = dataloader.dataset.C\n",
    "\n",
    "#Calcul de la dérivée du PICNN\n",
    "test = 4\n",
    "x_i = X[test, :, :]\n",
    "y_i = Y[test, :, :]\n",
    "c_i = C[test, :, :]\n",
    "\n",
    "\n",
    "y_i.requires_grad_(True)\n",
    "x_i.requires_grad_(True)\n",
    "c_i.requires_grad_(True)    \n",
    "\n",
    "output_model = ICNNg(x_i, c_i)\n",
    "\n",
    "grad_model = torch.autograd.grad(outputs=output_model, inputs=x_i, grad_outputs=torch.ones_like(output_model), create_graph=True)[0]\n",
    "\n",
    "plt.hist(X[test, :, 0],  bins=15, label = 'X', density = True)\n",
    "plt.hist(Y[test, :, 0],  bins=15, label = 'Y', density = True)\n",
    "plt.hist(grad_model[:, 0].detach().numpy(),  bins=15, label = 'grad_model', density = True, alpha = 0.5)\n",
    "# plt.hist(X_pred,  bins=15, label = 'X_pred', density = True, alpha = 0.5)\n",
    "plt.plot(np.linspace(-3, 3, 300), stats.norm.pdf(np.linspace(-3, 3, 300), loc=0, scale=1), label = 'X_distrib', color = 'blue')\n",
    "plt.plot(np.linspace(-3*scales[test, 0] + locs[test, 0], 3*scales[test, 0] + locs[test, 0], 300), stats.norm.pdf(np.linspace(-3*scales[test, 0] + locs[test, 0], 3*scales[test, 0] + locs[test, 0], 300), loc=locs[test, 0], scale=scales[test, 0]), label = 'Y_distrib', color = 'red')\n",
    "\n",
    "plt.legend()\n",
    "\n",
    "plt.show()"
   ]
  }
 ],
 "metadata": {
  "kernelspec": {
   "display_name": "Python 3",
   "language": "python",
   "name": "python3"
  },
  "language_info": {
   "codemirror_mode": {
    "name": "ipython",
    "version": 3
   },
   "file_extension": ".py",
   "mimetype": "text/x-python",
   "name": "python",
   "nbconvert_exporter": "python",
   "pygments_lexer": "ipython3",
   "version": "3.11.6"
  }
 },
 "nbformat": 4,
 "nbformat_minor": 2
}
