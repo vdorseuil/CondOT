{
 "cells": [
  {
   "cell_type": "code",
   "execution_count": null,
   "metadata": {},
   "outputs": [],
   "source": [
    "import torch\n",
    "import numpy as np\n",
    "\n",
    "np.random.seed(43)  # for NumPy\n",
    "torch.manual_seed(43)  # for PyTorch\n",
    "\n",
    "from torch.utils.data import DataLoader\n",
    "from icnnet import ICNNet #PICCN architecture\n",
    "from toy_data_dataloader_gaussian import generate_dataset #simulated data\n",
    "from gaussian_transport import get_gaussian_transport, get_mean, get_covariance #closed form gaussian transport\n",
    "from mydataset import MyDataset, get_gaussian_dataset, get_gaussian_transport_dataset #dataset\n",
    "from train_picnn import PICNNtrain #initial training\n",
    "from train_makkuva import train_makkuva_epoch #Makkuva's training\n",
    "from visualization import plot_transport #load transport map vizualization\n",
    "import matplotlib.pyplot as plt\n",
    "\n",
    "import ot\n",
    "import ot.plot"
   ]
  },
  {
   "cell_type": "code",
   "execution_count": null,
   "metadata": {},
   "outputs": [],
   "source": [
    "%load_ext autoreload\n",
    "%autoreload 2"
   ]
  },
  {
   "cell_type": "markdown",
   "metadata": {},
   "source": [
    "__Settings__"
   ]
  },
  {
   "cell_type": "code",
   "execution_count": null,
   "metadata": {},
   "outputs": [],
   "source": [
    "r = 500 #sample size for a given distribution\n",
    "N = 50 #number of distributions\n",
    "\n",
    "init_z_f = 'empiric_gaussian_map' #chose from 'Amos', 'gaussian01_map', 'empiric_gaussian_map'\n",
    "init_z_g = 'empiric_gaussian_map' #chose from 'Amos', 'gaussian01_map', 'empiric_gaussian_map'\n",
    "\n",
    "input_size = 2\n",
    "layer_sizes = [input_size,64, 64, 64, 1]\n",
    "n_layers = len(layer_sizes)\n",
    "context_layer_sizes = [12, 12, 12, 12, 1]\n",
    "\n",
    "init_bunne = True #to approximate initialization at instanciation\n",
    "n_epoch_training_init = 0\n",
    "lr_training_init = 0.001\n",
    "\n",
    "\n",
    "filepath_pth_f = 'trained_models/training/models_f_'\n",
    "filepath_pth_g = 'trained_models/training/models_g_'\n",
    "filepath_plt_f = 'trained_models/training/plots_f_'\n",
    "filepath_plt_g = 'trained_models/training/plots_g_'\n",
    "import os\n",
    "os.makedirs(filepath_pth_f, exist_ok=True)\n",
    "os.makedirs(filepath_pth_g, exist_ok=True)\n",
    "os.makedirs(filepath_plt_f, exist_ok=True)\n",
    "os.makedirs(filepath_plt_g, exist_ok=True)\n",
    "\n",
    "batch_number = 0\n",
    "\n",
    "train_freq_f = 1\n",
    "train_freq_g = 5\n",
    "lr_makkuva = 0.0001\n",
    "regularize_f = False\n",
    "regularize_g = True\n",
    "lambda_proximal = 0.0001"
   ]
  },
  {
   "cell_type": "markdown",
   "metadata": {},
   "source": [
    "__Simulate transport data__"
   ]
  },
  {
   "cell_type": "code",
   "execution_count": null,
   "metadata": {},
   "outputs": [],
   "source": [
    "dataset = generate_dataset(r=500, N=50)\n",
    "gaussian_dataset = get_gaussian_dataset(dataset)\n",
    "gaussian_transport_dataset = get_gaussian_transport_dataset(gaussian_dataset)"
   ]
  },
  {
   "cell_type": "markdown",
   "metadata": {},
   "source": [
    "__Define initialization__"
   ]
  },
  {
   "cell_type": "code",
   "execution_count": null,
   "metadata": {},
   "outputs": [],
   "source": [
    "if init_z_f == 'Amos':\n",
    "    def init_z_f(x):\n",
    "        return x\n",
    "if init_z_g == 'Amos':\n",
    "    def init_z_g(x) :\n",
    "        return x\n",
    "\n",
    "if init_z_f == 'gaussian01_map':\n",
    "    def init_z_f(x):\n",
    "        return (1/2) * torch.norm(x, dim=-1, keepdim=True)**2\n",
    "if init_z_g == 'gaussian01_map':\n",
    "    def init_z_g(x) :\n",
    "        return (1/2) * torch.norm(x, dim=-1, keepdim=True)**2\n",
    "\n",
    "mean1 = get_mean(dataset.X)\n",
    "cov1 = get_covariance(dataset.X)\n",
    "mean2 = get_mean(dataset.Y)\n",
    "cov2 = get_covariance(dataset.Y)\n",
    "    \n",
    "if init_z_f == 'empiric_gaussian_map':\n",
    "    def init_z_f(x):\n",
    "        return(get_gaussian_transport(u=x, cov1 = cov1, cov2 = cov2, m1=mean1, m2=mean2))\n",
    "if init_z_g == 'empiric_gaussian_map':\n",
    "    def init_z_g(x) :\n",
    "        return(get_gaussian_transport(u=x, cov1 = cov2, cov2 = cov1, m1=mean2, m2=mean1))\n"
   ]
  },
  {
   "cell_type": "markdown",
   "metadata": {},
   "source": [
    "__Build model__"
   ]
  },
  {
   "cell_type": "code",
   "execution_count": null,
   "metadata": {},
   "outputs": [],
   "source": [
    "ICNNf = ICNNet(layer_sizes = layer_sizes, context_layer_sizes=context_layer_sizes, init_bunne = init_bunne)\n",
    "ICNNg = ICNNet(layer_sizes = layer_sizes, context_layer_sizes=context_layer_sizes, init_bunne = init_bunne)"
   ]
  },
  {
   "cell_type": "markdown",
   "metadata": {},
   "source": [
    "__PICNN initial training__"
   ]
  },
  {
   "cell_type": "code",
   "execution_count": null,
   "metadata": {},
   "outputs": [],
   "source": [
    "print('training f')\n",
    "gaussian_transport_dataloader = DataLoader(gaussian_transport_dataset, batch_size=250, shuffle=True)\n",
    "PICNNtrain(ICNNf, gaussian_transport_dataloader, init_z_f, lr=lr_training_init, epochs=n_epoch_training_init)\n",
    "\n",
    "reversed_gaussian_dataset = MyDataset(gaussian_dataset.Y, gaussian_dataset.C, gaussian_dataset.X)\n",
    "gaussian_transport_dataset_reversed = get_gaussian_transport_dataset(reversed_gaussian_dataset)\n",
    "gaussian_transport_dataloader_reversed = DataLoader(gaussian_transport_dataset_reversed, batch_size=250, shuffle=True)\n",
    "PICNNtrain(ICNNg, gaussian_transport_dataloader_reversed, init_z_g, lr=lr_training_init, epochs=n_epoch_training_init)"
   ]
  },
  {
   "cell_type": "markdown",
   "metadata": {},
   "source": [
    "__Save and plot init__"
   ]
  },
  {
   "cell_type": "code",
   "execution_count": null,
   "metadata": {},
   "outputs": [],
   "source": [
    "filename_pth_f = filepath_pth_f + '/' + str(0) + '_init.pth'\n",
    "filename_pth_g = filepath_pth_g + '/' + str(0) + '_init.pth'\n",
    "torch.save(ICNNf.state_dict(), filename_pth_f)\n",
    "torch.save(ICNNg.state_dict(), filename_pth_g)\n",
    "\n",
    "filename_plt_f = filepath_plt_f + '/' + str(0) + '_init.png'\n",
    "filename_plt_g = filepath_plt_g + '/' + str(0) + '_init.png'\n",
    "plot_transport(dataset, batch_number, ICNNf, ICNNg, init_z_f = init_z_f, init_z_g = init_z_g, filename_f = filename_plt_f, filename_g = filename_plt_g)"
   ]
  },
  {
   "cell_type": "markdown",
   "metadata": {},
   "source": [
    "__Train using Makkuva's method__"
   ]
  },
  {
   "cell_type": "code",
   "execution_count": null,
   "metadata": {},
   "outputs": [],
   "source": [
    "dataloader = DataLoader(dataset, batch_size=500, shuffle=True)\n",
    "\n",
    "for epoch in range(1, 101) :\n",
    "    print('epoch :', epoch, end=' - ')\n",
    "    train_makkuva_epoch(ICNNf=ICNNf, ICNNg=ICNNg, dataloader = dataloader, init_z_f = init_z_f, init_z_g = init_z_g, lr=lr_makkuva, train_freq_g=train_freq_g, train_freq_f=train_freq_f, regularize_f = regularize_f, regularize_g = regularize_g, lambda_proximal = lambda_proximal)\n",
    "\n",
    "    filename_pth_f = filepath_pth_f + '/' + str(epoch) + '.pth'\n",
    "    filename_pth_g = filepath_pth_g + '/' + str(epoch) + '.pth'\n",
    "    torch.save(ICNNf.state_dict(), filename_pth_f)\n",
    "    torch.save(ICNNg.state_dict(), filename_pth_g)\n",
    "\n",
    "    filename_plt_f = filepath_plt_f + '/' + str(epoch) + '.png'\n",
    "    filename_plt_g = filepath_plt_g + '/' + str(epoch) + '.png'\n",
    "        \n",
    "    plot_transport(dataset, batch_number, ICNNf, ICNNg, init_z_f=init_z_f, init_z_g=init_z_g, filename_f = filename_plt_f, filename_g = filename_plt_g)  "
   ]
  },
  {
   "cell_type": "markdown",
   "metadata": {},
   "source": [
    "__Calculating the transport cost__"
   ]
  },
  {
   "cell_type": "code",
   "execution_count": null,
   "metadata": {},
   "outputs": [],
   "source": [
    "\n",
    "test = 0 #number of the distribution to plot\n",
    "\n",
    "x_i = dataset.X[test, :, :]\n",
    "y_i = dataset.Y[test, :, :]\n",
    "c_i = dataset.C[test, :, :]\n",
    "\n",
    "locs = c_i[:,0]\n",
    "scales = c_i[:,1]\n",
    "\n",
    "\n",
    "y_i.requires_grad_(True)\n",
    "x_i.requires_grad_(True)\n",
    "\n",
    "\n",
    "\n",
    "def calculating_OT(mu, nu, f_mu_c):\n",
    "    a, b = np.ones((mu.shape[0],)) / mu.shape[0], np.ones((nu.shape[0],)) / nu.shape[0]\n",
    "\n",
    "    M = ot.dist(nu, f_mu_c)\n",
    "    G0 = ot.emd2(a, b, M)\n",
    "\n",
    "    M2 = ot.dist(mu, f_mu_c)\n",
    "    G1 = ot.emd2(a, b, M2)\n",
    "\n",
    "    G2 = 1/mu.shape[0] * np.sum(np.linalg.norm(mu - f_mu_c, axis = 1)**2)\n",
    "\n",
    "    return G0, G2-G1\n",
    "\n",
    "output_model_f = ICNNf(x_i, c_i, init_z = init_z_f)\n",
    "grad_model_f = torch.autograd.grad(outputs=output_model_f, inputs=x_i, grad_outputs=torch.ones_like(output_model_f), create_graph=True)[0].detach().numpy()\n",
    "\n",
    "output_model_g = ICNNg(y_i, c_i, init_z = init_z_g)\n",
    "grad_model_g = torch.autograd.grad(outputs=output_model_g, inputs=y_i, grad_outputs=torch.ones_like(output_model_g), create_graph=True)[0].detach().numpy()\n",
    "\n",
    "mu = x_i.detach().numpy()\n",
    "nu = y_i.detach().numpy()\n",
    "\n",
    "G0, delta = calculating_OT(mu, nu, grad_model_f)\n",
    "\n",
    "print('Cost of transport between the target and the predicted distribution :', G0)\n",
    "print('Difference between the cost of transport and the Wasserstein distance:', delta)"
   ]
  }
 ],
 "metadata": {
  "kernelspec": {
   "display_name": "Python 3",
   "language": "python",
   "name": "python3"
  },
  "language_info": {
   "codemirror_mode": {
    "name": "ipython",
    "version": 3
   },
   "file_extension": ".py",
   "mimetype": "text/x-python",
   "name": "python",
   "nbconvert_exporter": "python",
   "pygments_lexer": "ipython3",
   "version": "3.9.18"
  }
 },
 "nbformat": 4,
 "nbformat_minor": 2
}
