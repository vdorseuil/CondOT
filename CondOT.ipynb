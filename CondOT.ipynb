{
 "cells": [
  {
   "cell_type": "code",
   "execution_count": 7,
   "metadata": {},
   "outputs": [],
   "source": [
    "import torch\n",
    "import torch.nn as nn\n",
    "import scipy.stats as stats"
   ]
  },
  {
   "cell_type": "code",
   "execution_count": 4,
   "metadata": {},
   "outputs": [],
   "source": [
    "class ICNNet(nn.Module):\n",
    "    def __init__(self, layer_sizes = [2,32,64,32,8,1], context_layer_sizes=[2,32,64,32,8,1]):\n",
    "        self.n_layers = len(layer_sizes)\n",
    "\n",
    "        self.layers_activation = list()\n",
    "        self.layers_z = list()\n",
    "        self.layers_zu = list()\n",
    "        self.layers_x = list()\n",
    "        self.layers_xu = list()\n",
    "        self.layers_u = list()\n",
    "        self.layers_v = list()\n",
    "        \n",
    "        super(ICNNet, self).__init__()\n",
    "\n",
    "        for i in range(self.n_layers-1): #Convex activation functions\n",
    "            self.layers_activation.append(nn.Softplus())\n",
    "\n",
    "        for i in range(self.n_layers-1): #Wz_k\n",
    "            self.layers_z.append(nn.Sequential(nn.Linear(layer_sizes[i], layer_sizes[i+1], bias=False)))\n",
    "\n",
    "        for i in range(self.n_layers-1): #Wzu_k and bz_k\n",
    "            self.layers_zu.append(nn.Sequential(nn.Linear(layer_sizes[i], layer_sizes[i+1]), nn.ReLU()))\n",
    "\n",
    "        for i in range(self.n_layers-1): #Wx_k\n",
    "            self.layers_x.append(nn.Sequential(nn.Linear(layer_sizes[i], layer_sizes[i+1], bias=False)))\n",
    "\n",
    "        for i in range(self.n_layers-1): # Wxu_k and bx_k\n",
    "            self.layers_xu.append(nn.Sequential(nn.Linear(context_layer_sizes[i], layer_sizes[i+1])))\n",
    "\n",
    "        for i in range(self.n_layers-1): #Wu_k and bu_k\n",
    "            self.layers_u.append(nn.Sequential(nn.Linear(context_layer_sizes[i], layer_sizes[i+1])))\n",
    "\n",
    "        for i in range(self.n_layers-1): #V_k and v_k\n",
    "            self.layers_v.append(nn.Sequential(nn.Linear(context_layer_sizes[i], context_layer_sizes[i+1]), nn.tanh()))\n",
    "\n",
    "    def forward(self, x, c):\n",
    "        input = x.clone()\n",
    "        u = c.clone()\n",
    "        for i in range(self.n_layers-1):\n",
    "            x = self.layers_activation[i](self.layers_z[i](x * self.layers_zu[i](u)) + self.layers_x[i](input * self.layers_xu[i](u)) + self.layers_u[i](u))\n",
    "            u = self.layers_v[i](u)"
   ]
  },
  {
   "cell_type": "code",
   "execution_count": 10,
   "metadata": {},
   "outputs": [],
   "source": [
    "data = torch.tensor(stats.norm.rvs(loc=(-1,-1), scale=1, size=(100,2)), dtype=torch.float32)"
   ]
  }
 ],
 "metadata": {
  "kernelspec": {
   "display_name": "Python 3",
   "language": "python",
   "name": "python3"
  },
  "language_info": {
   "codemirror_mode": {
    "name": "ipython",
    "version": 3
   },
   "file_extension": ".py",
   "mimetype": "text/x-python",
   "name": "python",
   "nbconvert_exporter": "python",
   "pygments_lexer": "ipython3",
   "version": "3.11.6"
  }
 },
 "nbformat": 4,
 "nbformat_minor": 2
}
