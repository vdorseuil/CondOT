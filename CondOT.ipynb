{
 "cells": [
  {
   "cell_type": "markdown",
   "metadata": {},
   "source": [
    "## Imports"
   ]
  },
  {
   "cell_type": "code",
   "execution_count": 3,
   "metadata": {},
   "outputs": [],
   "source": [
    "import torch\n",
    "import torch.nn as nn\n",
    "import scipy.stats as stats\n",
    "import numpy as np\n",
    "from torch.utils.data import Dataset, DataLoader\n",
    "from torchviz import make_dot\n",
    "from torch import optim\n",
    "\n",
    "\n",
    "from icnnet import ICNNet\n",
    "from mydataset import MyDataset\n",
    "import toy_data_dataloader_gaussian\n"
   ]
  },
  {
   "cell_type": "markdown",
   "metadata": {},
   "source": [
    "## Toy data\n"
   ]
  },
  {
   "cell_type": "code",
   "execution_count": 2,
   "metadata": {},
   "outputs": [],
   "source": [
    "dataloader = toy_data_dataloader_gaussian.get_dataloader()"
   ]
  },
  {
   "cell_type": "markdown",
   "metadata": {},
   "source": [
    "## Training"
   ]
  },
  {
   "cell_type": "markdown",
   "metadata": {},
   "source": [
    "### PICNN training"
   ]
  },
  {
   "cell_type": "code",
   "execution_count": 4,
   "metadata": {},
   "outputs": [
    {
     "name": "stdout",
     "output_type": "stream",
     "text": [
      "Epoch 1/50 Loss: 27.066930770874023\n",
      "Epoch 2/50 Loss: 20.302471160888672\n",
      "Epoch 3/50 Loss: 17.91814613342285\n",
      "Epoch 4/50 Loss: 19.700496673583984\n",
      "Epoch 5/50 Loss: 16.446422576904297\n",
      "Epoch 6/50 Loss: 14.33407211303711\n",
      "Epoch 7/50 Loss: 11.035459518432617\n",
      "Epoch 8/50 Loss: 12.282501220703125\n",
      "Epoch 9/50 Loss: 10.968561172485352\n",
      "Epoch 10/50 Loss: 9.695143699645996\n",
      "Epoch 11/50 Loss: 10.118446350097656\n",
      "Epoch 12/50 Loss: 7.815341949462891\n",
      "Epoch 13/50 Loss: 9.341687202453613\n",
      "Epoch 14/50 Loss: 9.094572067260742\n",
      "Epoch 15/50 Loss: 9.701265335083008\n",
      "Epoch 16/50 Loss: 7.999893665313721\n",
      "Epoch 17/50 Loss: 6.086113929748535\n",
      "Epoch 18/50 Loss: 7.757827281951904\n",
      "Epoch 19/50 Loss: 7.527063846588135\n",
      "Epoch 20/50 Loss: 8.599159240722656\n",
      "Epoch 21/50 Loss: 7.922767162322998\n",
      "Epoch 22/50 Loss: 10.079205513000488\n",
      "Epoch 23/50 Loss: 7.4470391273498535\n",
      "Epoch 24/50 Loss: 10.077977180480957\n",
      "Epoch 25/50 Loss: 7.549190521240234\n",
      "Epoch 26/50 Loss: 11.292055130004883\n",
      "Epoch 27/50 Loss: 9.006994247436523\n",
      "Epoch 28/50 Loss: 9.499713897705078\n",
      "Epoch 29/50 Loss: 7.588408470153809\n",
      "Epoch 30/50 Loss: 8.221362113952637\n",
      "Epoch 31/50 Loss: 8.125275611877441\n",
      "Epoch 32/50 Loss: 6.96733283996582\n",
      "Epoch 33/50 Loss: 8.100797653198242\n",
      "Epoch 34/50 Loss: 8.846681594848633\n",
      "Epoch 35/50 Loss: 8.632051467895508\n",
      "Epoch 36/50 Loss: 7.668782711029053\n",
      "Epoch 37/50 Loss: 7.573938369750977\n",
      "Epoch 38/50 Loss: 9.43480110168457\n",
      "Epoch 39/50 Loss: 6.63509464263916\n",
      "Epoch 40/50 Loss: 6.268193244934082\n",
      "Epoch 41/50 Loss: 7.248255252838135\n",
      "Epoch 42/50 Loss: 8.998610496520996\n",
      "Epoch 43/50 Loss: 7.793102264404297\n",
      "Epoch 44/50 Loss: 9.503623008728027\n",
      "Epoch 45/50 Loss: 7.391245365142822\n",
      "Epoch 46/50 Loss: 9.431536674499512\n",
      "Epoch 47/50 Loss: 7.5281195640563965\n",
      "Epoch 48/50 Loss: 7.353127479553223\n",
      "Epoch 49/50 Loss: 8.991740226745605\n",
      "Epoch 50/50 Loss: 9.830469131469727\n"
     ]
    }
   ],
   "source": [
    "epochs = 50\n",
    "\n",
    "# Initialize the model\n",
    "model = ICNNet(input_size=2, layer_sizes = [2,4,2], context_layer_sizes=[2,2,2])\n",
    "model.train()\n",
    "\n",
    "# Define the loss function and the optimizer\n",
    "criterion = nn.MSELoss()\n",
    "optimizer = optim.Adam(model.parameters(), lr=0.01)\n",
    "\n",
    "for epoch in range(epochs):\n",
    "    for x_batch, c_batch, y_batch in dataloader:\n",
    "        x_batch.requires_grad_(True)\n",
    "        c_batch.requires_grad_(True)\n",
    "\n",
    "        optimizer.zero_grad() # Zero the gradients\n",
    "        \n",
    "        output = model(x_batch, c_batch)  # Assuming context c is same as input x\n",
    "\n",
    "        loss = criterion(output, y_batch) # Compute the loss\n",
    "        loss.backward() # Backward pass\n",
    "\n",
    "        optimizer.step() # Update the parameters\n",
    "        # for layers_k in model.layers_z:\n",
    "        #     for param in layers_k.parameters():\n",
    "        #         param.data.clamp_min_(0)\n",
    "        \n",
    "        #pass\n",
    "\n",
    "    #for name, parameter in model.named_parameters():\n",
    "        #if parameter.requires_grad and parameter.grad is not None:\n",
    "            #grad_norm = parameter.grad.norm().item()\n",
    "            #print(f\"Gradient norm for {name}: {grad_norm}\")\n",
    "\n",
    "    print(f\"Epoch {epoch+1}/{epochs} Loss: {loss.item()}\")\n",
    "\n",
    "\n"
   ]
  },
  {
   "cell_type": "code",
   "execution_count": null,
   "metadata": {},
   "outputs": [
    {
     "name": "stdout",
     "output_type": "stream",
     "text": [
      "The model has 88 parameters\n"
     ]
    }
   ],
   "source": [
    "def count_parameters(model):\n",
    "    return sum(p.numel() for p in model.parameters() if p.requires_grad)\n",
    "\n",
    "# Suppose 'model' is your PyTorch model\n",
    "num_parameters = count_parameters(model)\n",
    "\n",
    "print(f'The model has {num_parameters} parameters')"
   ]
  },
  {
   "cell_type": "code",
   "execution_count": 96,
   "metadata": {},
   "outputs": [
    {
     "data": {
      "text/plain": [
       "tensor([1.8868, 1.8835, 1.8821, 1.8859, 1.8824, 1.8868, 1.8864, 1.8862, 1.8849,\n",
       "        1.8808, 1.8872, 1.8840, 1.8846, 1.8842, 1.8842, 1.8813, 1.8820, 1.8831,\n",
       "        1.8846, 1.8835, 1.8865, 1.8866, 1.8811, 1.8837, 1.8873, 1.8842, 1.8844,\n",
       "        1.8848, 1.8864, 1.8831, 1.8846, 1.8834, 1.8837, 1.8858, 1.8844, 1.8864,\n",
       "        1.8830, 1.8874, 1.8847, 1.8866, 1.8832, 1.8844, 1.8795, 1.8835, 1.8847,\n",
       "        1.8841, 1.8860, 1.8826, 1.8860, 1.8851, 1.8830, 1.8854, 1.8839, 1.8862,\n",
       "        1.8849, 1.8862, 1.8847, 1.8828, 1.8858, 1.8836, 1.8855, 1.8869, 1.8864,\n",
       "        1.8847, 1.8848, 1.8864, 1.8856, 1.8852, 1.8850, 1.8835, 1.8843, 1.8811,\n",
       "        1.8827, 1.8850, 1.8851, 1.8855, 1.8858, 1.8840, 1.8851, 1.8855, 1.8831,\n",
       "        1.8836, 1.8858, 1.8831, 1.8872, 1.8838, 1.8814, 1.8847, 1.8837, 1.8835,\n",
       "        1.8839, 1.8852, 1.8859, 1.8860, 1.8824, 1.8815, 1.8864, 1.8836, 1.8847,\n",
       "        1.8803], grad_fn=<SelectBackward0>)"
      ]
     },
     "execution_count": 96,
     "metadata": {},
     "output_type": "execute_result"
    }
   ],
   "source": []
  },
  {
   "cell_type": "code",
   "execution_count": 109,
   "metadata": {},
   "outputs": [
    {
     "data": {
      "image/png": "[encoded data removed]",
      "text/plain": [
       "<Figure size 640x480 with 1 Axes>"
      ]
     },
     "metadata": {},
     "output_type": "display_data"
    }
   ],
   "source": [
    "## plot an x \n",
    "import matplotlib.pyplot as plt\n",
    "\n",
    "Y_pred  = model(X, C)[0, :, 0].detach().numpy().mean()\n",
    "\n",
    "plt.hist(X[0, :, 0],  bins=15, label = 'X', density = True)\n",
    "plt.hist(Y[0, :, 0],  bins=15, label = 'Y', density = True)\n",
    "plt.axvline(x = Y_pred, color = 'r', label = 'Y_pred')\n",
    "plt.plot(np.linspace(-3, 3, 300), stats.norm.pdf(np.linspace(-3, 3, 300), loc=0, scale=1), label = 'X_distrib', color = 'blue')\n",
    "plt.plot(np.linspace(-3*scales[0, 0], 3*scales[0, 0], 300), stats.norm.pdf(np.linspace(-3*scales[0, 0], 3*scales[0, 0], 300), loc=locs[0, 0], scale=scales[0, 0]), label = 'Y_distrib', color = 'red')\n",
    "\n",
    "plt.legend()\n",
    "\n",
    "plt.show()\n",
    "         \n",
    "\n",
    "\n",
    "\n"
   ]
  },
  {
   "cell_type": "code",
   "execution_count": 12,
   "metadata": {},
   "outputs": [
    {
     "name": "stdout",
     "output_type": "stream",
     "text": [
      "tensor([0.9659]) tensor([0.9711])\n",
      "tensor([-0.8608]) tensor([-0.8804])\n",
      "tensor([-1.5514]) tensor([-1.5494])\n",
      "tensor([-2.0634]) tensor([-2.0654])\n",
      "tensor([-0.3589]) tensor([-0.3625])\n",
      "tensor([-0.0569]) tensor([-0.0557])\n",
      "tensor([0.2998]) tensor([0.3047])\n",
      "tensor([0.5297]) tensor([0.5354])\n",
      "tensor([-0.1235]) tensor([-0.1228])\n",
      "tensor([0.9448]) tensor([0.9500])\n",
      "tensor([1.9734]) tensor([1.9713])\n",
      "tensor([-0.3519]) tensor([-0.3491])\n",
      "tensor([1.6254]) tensor([1.6264])\n",
      "tensor([2.1131]) tensor([2.1097])\n",
      "tensor([1.3164]) tensor([1.3198])\n",
      "tensor([2.5679]) tensor([2.5597])\n",
      "tensor([0.2010]) tensor([0.2053])\n",
      "tensor([1.0198]) tensor([1.0247])\n",
      "tensor([0.7091]) tensor([0.7148])\n",
      "tensor([-0.9824]) tensor([-0.9785])\n",
      "tensor([1.9971]) tensor([1.9948])\n",
      "tensor([0.9218]) tensor([0.9271])\n",
      "tensor([0.4286]) tensor([0.4341])\n",
      "tensor([2.5955]) tensor([2.5870])\n",
      "tensor([1.0804]) tensor([1.0850])\n",
      "tensor([-0.4405]) tensor([-0.4374])\n",
      "tensor([0.6309]) tensor([0.6259])\n",
      "tensor([-1.2735]) tensor([-1.2702])\n",
      "tensor([-1.1432]) tensor([-1.1396])\n",
      "tensor([-0.7228]) tensor([-0.7189])\n",
      "tensor([2.0839]) tensor([2.0807])\n",
      "tensor([-1.6391]) tensor([-1.6376])\n",
      "tensor([-0.6291]) tensor([-0.6254])\n",
      "tensor([0.9206]) tensor([0.9259])\n",
      "tensor([-1.6319]) tensor([-1.6303])\n",
      "tensor([-2.9500]) tensor([-2.9639])\n",
      "tensor([0.0403]) tensor([0.0431])\n",
      "tensor([-0.7065]) tensor([-0.7027])\n",
      "tensor([-1.0141]) tensor([-1.0103])\n",
      "tensor([-0.7957]) tensor([-0.7918])\n",
      "tensor([0.2658]) tensor([0.2645])\n",
      "tensor([0.9038]) tensor([0.9091])\n",
      "tensor([0.4052]) tensor([0.4027])\n",
      "tensor([0.7738]) tensor([0.7672])\n",
      "tensor([-1.9196]) tensor([-1.9203])\n",
      "tensor([-2.7655]) tensor([-2.7764])\n",
      "tensor([1.9558]) tensor([1.9540])\n",
      "tensor([2.7357]) tensor([2.7256])\n",
      "tensor([-2.2963]) tensor([-2.3008])\n",
      "tensor([1.4277]) tensor([1.4302])\n",
      "tensor([1.2664]) tensor([1.2700])\n",
      "tensor([1.3540]) tensor([1.3571])\n",
      "tensor([0.2139]) tensor([0.2183])\n",
      "tensor([2.5841]) tensor([2.5758])\n",
      "tensor([1.3881]) tensor([1.3910])\n",
      "tensor([0.4797]) tensor([0.4764])\n",
      "tensor([0.8196]) tensor([0.8251])\n",
      "tensor([-0.1159]) tensor([-0.1143])\n",
      "tensor([1.7999]) tensor([1.7995])\n",
      "tensor([2.4123]) tensor([2.4058])\n",
      "tensor([-0.1636]) tensor([-0.1617])\n",
      "tensor([-0.8177]) tensor([-0.8139])\n",
      "tensor([-0.0442]) tensor([-0.0431])\n",
      "tensor([3.1167]) tensor([3.1023])\n",
      "tensor([1.3651]) tensor([1.3681])\n",
      "tensor([-0.4054]) tensor([-0.4024])\n",
      "tensor([-2.1079]) tensor([-2.1104])\n",
      "tensor([-2.3334]) tensor([-2.3383])\n",
      "tensor([0.6248]) tensor([0.6306])\n",
      "tensor([1.5021]) tensor([1.5041])\n",
      "tensor([2.3213]) tensor([2.3158])\n",
      "tensor([0.6594]) tensor([0.6541])\n",
      "tensor([-1.2865]) tensor([-1.2834])\n",
      "tensor([1.6257]) tensor([1.6268])\n",
      "tensor([2.3813]) tensor([2.3751])\n",
      "tensor([1.8724]) tensor([1.8713])\n",
      "tensor([-1.3745]) tensor([-1.3716])\n",
      "tensor([0.0797]) tensor([0.0800])\n",
      "tensor([-1.3821]) tensor([-1.3793])\n",
      "tensor([2.5622]) tensor([2.5541])\n",
      "tensor([-1.6041]) tensor([-1.6024])\n",
      "tensor([-0.2401]) tensor([-0.2378])\n",
      "tensor([1.7975]) tensor([1.7748])\n",
      "tensor([-1.6262]) tensor([-1.6246])\n",
      "tensor([-0.8454]) tensor([-0.8415])\n",
      "tensor([1.1133]) tensor([1.1178])\n",
      "tensor([-0.1105]) tensor([-0.1089])\n",
      "tensor([-2.6090]) tensor([-2.6176])\n",
      "tensor([0.4748]) tensor([0.4715])\n",
      "tensor([0.4953]) tensor([0.5009])\n",
      "tensor([0.9092]) tensor([0.9007])\n",
      "tensor([2.8649]) tensor([2.8534])\n",
      "tensor([-0.9006]) tensor([-0.8968])\n",
      "tensor([-0.9739]) tensor([-0.9701])\n",
      "tensor([-0.7777]) tensor([-0.7738])\n",
      "tensor([2.6804]) tensor([2.6710])\n",
      "tensor([0.7295]) tensor([0.7352])\n",
      "tensor([2.3140]) tensor([2.3086])\n",
      "tensor([1.2985]) tensor([1.3020])\n",
      "tensor([0.3873]) tensor([0.3926])\n"
     ]
    }
   ],
   "source": [
    "model.eval()\n",
    "with torch.no_grad():\n",
    "    correct = 0\n",
    "    total = 0\n",
    "    for x_batch, c_batch, y_batch in dataloader:\n",
    "        outputs = model(x_batch, c_batch)\n",
    "        for result, y in zip(outputs, y_batch) :\n",
    "            print(result, y)\n",
    "        break\n",
    "\n"
   ]
  },
  {
   "cell_type": "markdown",
   "metadata": {},
   "source": [
    "### Makkuva"
   ]
  },
  {
   "cell_type": "code",
   "execution_count": 14,
   "metadata": {},
   "outputs": [
    {
     "name": "stdout",
     "output_type": "stream",
     "text": [
      "Epoch 1/100 loss_g: -14697.9033203125, loss_f: -26.161470413208008\n",
      "Epoch 2/100 loss_g: -13241685114880.0, loss_f: -23073417216.0\n",
      "Epoch 3/100 loss_g: -4.9078584419444326e+17, loss_f: -840131305013248.0\n"
     ]
    },
    {
     "ename": "KeyboardInterrupt",
     "evalue": "",
     "output_type": "error",
     "traceback": [
      "\u001b[0;31m---------------------------------------------------------------------------\u001b[0m",
      "\u001b[0;31mKeyboardInterrupt\u001b[0m                         Traceback (most recent call last)",
      "Cell \u001b[0;32mIn[14], line 35\u001b[0m\n\u001b[1;32m     33\u001b[0m         optimizer_g\u001b[38;5;241m.\u001b[39mstep() \u001b[38;5;66;03m# Update the parameters\u001b[39;00m\n\u001b[1;32m     34\u001b[0m         \u001b[38;5;28;01mfor\u001b[39;00m layers_k \u001b[38;5;129;01min\u001b[39;00m ICNNg\u001b[38;5;241m.\u001b[39mlayers_z:\n\u001b[0;32m---> 35\u001b[0m             \u001b[38;5;28;01mfor\u001b[39;00m param \u001b[38;5;129;01min\u001b[39;00m layers_k\u001b[38;5;241m.\u001b[39mparameters():\n\u001b[1;32m     36\u001b[0m                 param\u001b[38;5;241m.\u001b[39mdata\u001b[38;5;241m.\u001b[39mclamp_min_(\u001b[38;5;241m0\u001b[39m)\n\u001b[1;32m     38\u001b[0m \u001b[38;5;28;01mfor\u001b[39;00m x, c, y \u001b[38;5;129;01min\u001b[39;00m dataloader:\n",
      "File \u001b[0;32m~/Desktop/CondOT/condot/lib64/python3.9/site-packages/torch/nn/modules/module.py:2193\u001b[0m, in \u001b[0;36mModule.parameters\u001b[0;34m(self, recurse)\u001b[0m\n\u001b[1;32m   2171\u001b[0m \u001b[38;5;28;01mdef\u001b[39;00m \u001b[38;5;21mparameters\u001b[39m(\u001b[38;5;28mself\u001b[39m, recurse: \u001b[38;5;28mbool\u001b[39m \u001b[38;5;241m=\u001b[39m \u001b[38;5;28;01mTrue\u001b[39;00m) \u001b[38;5;241m-\u001b[39m\u001b[38;5;241m>\u001b[39m Iterator[Parameter]:\n\u001b[1;32m   2172\u001b[0m \u001b[38;5;250m    \u001b[39m\u001b[38;5;124mr\u001b[39m\u001b[38;5;124;03m\"\"\"Return an iterator over module parameters.\u001b[39;00m\n\u001b[1;32m   2173\u001b[0m \n\u001b[1;32m   2174\u001b[0m \u001b[38;5;124;03m    This is typically passed to an optimizer.\u001b[39;00m\n\u001b[0;32m   (...)\u001b[0m\n\u001b[1;32m   2191\u001b[0m \n\u001b[1;32m   2192\u001b[0m \u001b[38;5;124;03m    \"\"\"\u001b[39;00m\n\u001b[0;32m-> 2193\u001b[0m     \u001b[38;5;28;01mfor\u001b[39;00m name, param \u001b[38;5;129;01min\u001b[39;00m \u001b[38;5;28mself\u001b[39m\u001b[38;5;241m.\u001b[39mnamed_parameters(recurse\u001b[38;5;241m=\u001b[39mrecurse):\n\u001b[1;32m   2194\u001b[0m         \u001b[38;5;28;01myield\u001b[39;00m param\n",
      "File \u001b[0;32m~/Desktop/CondOT/condot/lib64/python3.9/site-packages/torch/nn/modules/module.py:2226\u001b[0m, in \u001b[0;36mModule.named_parameters\u001b[0;34m(self, prefix, recurse, remove_duplicate)\u001b[0m\n\u001b[1;32m   2202\u001b[0m \u001b[38;5;250m\u001b[39m\u001b[38;5;124mr\u001b[39m\u001b[38;5;124;03m\"\"\"Return an iterator over module parameters, yielding both the name of the parameter as well as the parameter itself.\u001b[39;00m\n\u001b[1;32m   2203\u001b[0m \n\u001b[1;32m   2204\u001b[0m \u001b[38;5;124;03mArgs:\u001b[39;00m\n\u001b[0;32m   (...)\u001b[0m\n\u001b[1;32m   2221\u001b[0m \n\u001b[1;32m   2222\u001b[0m \u001b[38;5;124;03m\"\"\"\u001b[39;00m\n\u001b[1;32m   2223\u001b[0m gen \u001b[38;5;241m=\u001b[39m \u001b[38;5;28mself\u001b[39m\u001b[38;5;241m.\u001b[39m_named_members(\n\u001b[1;32m   2224\u001b[0m     \u001b[38;5;28;01mlambda\u001b[39;00m module: module\u001b[38;5;241m.\u001b[39m_parameters\u001b[38;5;241m.\u001b[39mitems(),\n\u001b[1;32m   2225\u001b[0m     prefix\u001b[38;5;241m=\u001b[39mprefix, recurse\u001b[38;5;241m=\u001b[39mrecurse, remove_duplicate\u001b[38;5;241m=\u001b[39mremove_duplicate)\n\u001b[0;32m-> 2226\u001b[0m \u001b[38;5;28;01myield from\u001b[39;00m gen\n",
      "File \u001b[0;32m~/Desktop/CondOT/condot/lib64/python3.9/site-packages/torch/nn/modules/module.py:2161\u001b[0m, in \u001b[0;36mModule._named_members\u001b[0;34m(self, get_members_fn, prefix, recurse, remove_duplicate)\u001b[0m\n\u001b[1;32m   2159\u001b[0m memo \u001b[38;5;241m=\u001b[39m \u001b[38;5;28mset\u001b[39m()\n\u001b[1;32m   2160\u001b[0m modules \u001b[38;5;241m=\u001b[39m \u001b[38;5;28mself\u001b[39m\u001b[38;5;241m.\u001b[39mnamed_modules(prefix\u001b[38;5;241m=\u001b[39mprefix, remove_duplicate\u001b[38;5;241m=\u001b[39mremove_duplicate) \u001b[38;5;28;01mif\u001b[39;00m recurse \u001b[38;5;28;01melse\u001b[39;00m [(prefix, \u001b[38;5;28mself\u001b[39m)]\n\u001b[0;32m-> 2161\u001b[0m \u001b[38;5;28;01mfor\u001b[39;00m module_prefix, module \u001b[38;5;129;01min\u001b[39;00m modules:\n\u001b[1;32m   2162\u001b[0m     members \u001b[38;5;241m=\u001b[39m get_members_fn(module)\n\u001b[1;32m   2163\u001b[0m     \u001b[38;5;28;01mfor\u001b[39;00m k, v \u001b[38;5;129;01min\u001b[39;00m members:\n",
      "File \u001b[0;32m~/Desktop/CondOT/condot/lib64/python3.9/site-packages/torch/nn/modules/module.py:2367\u001b[0m, in \u001b[0;36mModule.named_modules\u001b[0;34m(self, memo, prefix, remove_duplicate)\u001b[0m\n\u001b[1;32m   2365\u001b[0m \u001b[38;5;28;01mif\u001b[39;00m \u001b[38;5;28mself\u001b[39m \u001b[38;5;129;01mnot\u001b[39;00m \u001b[38;5;129;01min\u001b[39;00m memo:\n\u001b[1;32m   2366\u001b[0m     \u001b[38;5;28;01mif\u001b[39;00m remove_duplicate:\n\u001b[0;32m-> 2367\u001b[0m         \u001b[43mmemo\u001b[49m\u001b[38;5;241;43m.\u001b[39;49m\u001b[43madd\u001b[49m(\u001b[38;5;28mself\u001b[39m)\n\u001b[1;32m   2368\u001b[0m     \u001b[38;5;28;01myield\u001b[39;00m prefix, \u001b[38;5;28mself\u001b[39m\n\u001b[1;32m   2369\u001b[0m     \u001b[38;5;28;01mfor\u001b[39;00m name, module \u001b[38;5;129;01min\u001b[39;00m \u001b[38;5;28mself\u001b[39m\u001b[38;5;241m.\u001b[39m_modules\u001b[38;5;241m.\u001b[39mitems():\n",
      "\u001b[0;31mKeyboardInterrupt\u001b[0m: "
     ]
    }
   ],
   "source": [
    "from torch import optim\n",
    "epochs = 100\n",
    "train_freq_g = 20\n",
    "\n",
    "# Initialize the model\n",
    "input_size = 1\n",
    "ICNNf = ICNNet(layer_sizes = [input_size, 2,2,2,2,1], context_layer_sizes=[1,2,2,2,2,2])\n",
    "\n",
    "output_size = 1\n",
    "ICNNg = ICNNet(layer_sizes = [output_size, 2,2,2,2,1], context_layer_sizes=[1,2,2,2,2,2])\n",
    "\n",
    "# Define the loss function and the optimizer\n",
    "optimizer_f = optim.Adam(ICNNf.parameters())\n",
    "optimizer_g = optim.Adam(ICNNg.parameters())\n",
    "\n",
    "for epoch in range(epochs):\n",
    "   \n",
    "    for _ in range(train_freq_g) :\n",
    "        for x, c, y in dataloader:\n",
    "            optimizer_f.zero_grad() # Zero the gradients\n",
    "            optimizer_g.zero_grad() # Zero the gradients\n",
    "            x.requires_grad_(True)\n",
    "            y.requires_grad_(True)\n",
    "            c.requires_grad_(True)\n",
    "\n",
    "            output_g = ICNNg(y, c)\n",
    "            diff_output_g = torch.autograd.grad(output_g, y, grad_outputs=torch.ones_like(output_g), create_graph=True)[0]\n",
    "            \n",
    "            loss_g = - torch.matmul(y.transpose(0, 1), diff_output_g) - ICNNf(diff_output_g, c)\n",
    "            loss_g = torch.mean(loss_g)\n",
    "            loss_g.backward() # Backward pass\n",
    "\n",
    "            optimizer_g.step() # Update the parameters\n",
    "            for layers_k in ICNNg.layers_z:\n",
    "                for param in layers_k.parameters():\n",
    "                    param.data.clamp_min_(0)\n",
    "\n",
    "    for x, c, y in dataloader:\n",
    "        optimizer_f.zero_grad() # Zero the gradients\n",
    "        optimizer_g.zero_grad()\n",
    "        x.requires_grad_(True)\n",
    "        y.requires_grad_(True)\n",
    "        c.requires_grad_(True)\n",
    "        \n",
    "\n",
    "\n",
    "        output_g = ICNNg(y, c)\n",
    "        diff_output_g = torch.autograd.grad(outputs=output_g, inputs=y, grad_outputs=torch.ones_like(output_g), create_graph=True)[0]\n",
    "\n",
    "        loss_f = ICNNf(x, c) - ICNNf(diff_output_g, c)\n",
    "        loss_f = torch.mean(loss_f)\n",
    "        loss_f.backward() # Backward pass\n",
    "        \n",
    "        for layers_k in ICNNf.layers_z:\n",
    "                for param in layers_k.parameters():\n",
    "                    param.data.clamp_min_(0)\n",
    "\n",
    "\n",
    "        #testing algorithm\n",
    "        output_g_test = ICNNg(x, c)\n",
    "        diff_output_g_test = torch.autograd.grad(output_g_test, x, grad_outputs=torch.ones_like(output_g_test), create_graph=True)[0]\n",
    "\n",
    "        loss_test = diff_output_g_test-y\n",
    "\n",
    "        #print('y =', y[0], 'diff_output_g =', diff_output_g_test[0])\n",
    "        \n",
    "        pass\n",
    "\n",
    "    print(f\"Epoch {epoch+1}/{epochs} loss_g: {loss_g.item()}, loss_f: {loss_f.item()}\")"
   ]
  }
 ],
 "metadata": {
  "kernelspec": {
   "display_name": "Python 3",
   "language": "python",
   "name": "python3"
  },
  "language_info": {
   "codemirror_mode": {
    "name": "ipython",
    "version": 3
   },
   "file_extension": ".py",
   "mimetype": "text/x-python",
   "name": "python",
   "nbconvert_exporter": "python",
   "pygments_lexer": "ipython3",
   "version": "3.9.18"
  }
 },
 "nbformat": 4,
 "nbformat_minor": 2
}
