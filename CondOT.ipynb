{
 "cells": [
  {
   "cell_type": "markdown",
   "metadata": {},
   "source": [
    "### __Imports__"
   ]
  },
  {
   "cell_type": "code",
   "execution_count": 29,
   "metadata": {},
   "outputs": [],
   "source": [
    "import torch\n",
    "import torch.nn as nn\n",
    "import scipy.stats as stats\n",
    "import numpy as np\n",
    "from torch.utils.data import Dataset, DataLoader\n",
    "from torch import optim\n",
    "import matplotlib.pyplot as plt\n",
    "\n",
    "from torch.utils.data import Dataset, DataLoader"
   ]
  },
  {
   "cell_type": "code",
   "execution_count": 83,
   "metadata": {},
   "outputs": [],
   "source": [
    "from icnnet import ICNNet\n",
    "from mydataset import MyDataset, get_gaussian_dataset, get_gaussian_transport_dataset\n",
    "from toy_data_dataloader_gaussian import generate_gaussian_dataset\n",
    "from train_picnn import PICNNtrain\n",
    "from train_makkuva import train_makkuva, train_makkuva_epoch"
   ]
  },
  {
   "cell_type": "code",
   "execution_count": 31,
   "metadata": {},
   "outputs": [
    {
     "name": "stdout",
     "output_type": "stream",
     "text": [
      "The autoreload extension is already loaded. To reload it, use:\n",
      "  %reload_ext autoreload\n"
     ]
    }
   ],
   "source": [
    "%load_ext autoreload\n",
    "%autoreload 2"
   ]
  },
  {
   "cell_type": "markdown",
   "metadata": {},
   "source": [
    "## __Generate dataset__\n"
   ]
  },
  {
   "cell_type": "code",
   "execution_count": 100,
   "metadata": {},
   "outputs": [],
   "source": [
    "dataset = generate_gaussian_dataset(d=2, r=1000, N=100)\n",
    "gaussian_dataset = get_gaussian_dataset(dataset)\n",
    "gaussian_transport_dataset = get_gaussian_transport_dataset(gaussian_dataset)"
   ]
  },
  {
   "cell_type": "markdown",
   "metadata": {},
   "source": [
    "## __Initialization__"
   ]
  },
  {
   "cell_type": "markdown",
   "metadata": {},
   "source": [
    "### __PICNN training__"
   ]
  },
  {
   "cell_type": "code",
   "execution_count": 101,
   "metadata": {},
   "outputs": [],
   "source": [
    "input_size = 2\n",
    "output_size = 1\n",
    "context_layer_sizes = [input_size, 64, 64, 64,output_size]\n",
    "layer_sizes = [input_size, 64, 64, 64,output_size]\n",
    "\n",
    "model_init_f = ICNNet(input_size = input_size, layer_sizes = layer_sizes, context_layer_sizes=context_layer_sizes)\n",
    "model_init_g = ICNNet(input_size = input_size, layer_sizes = layer_sizes, context_layer_sizes=context_layer_sizes)"
   ]
  },
  {
   "cell_type": "code",
   "execution_count": 104,
   "metadata": {},
   "outputs": [
    {
     "name": "stdout",
     "output_type": "stream",
     "text": [
      "training f\n",
      "Epoch 1/100 Loss: 3.5048553943634033\n",
      "Epoch 2/100 Loss: 2.901960611343384\n",
      "Epoch 3/100 Loss: 3.37034010887146\n",
      "Epoch 4/100 Loss: 2.734541654586792\n",
      "Epoch 5/100 Loss: 2.7128705978393555\n",
      "Epoch 6/100 Loss: 2.859997510910034\n",
      "Epoch 7/100 Loss: 2.6982500553131104\n",
      "Epoch 8/100 Loss: 2.7923924922943115\n",
      "Epoch 9/100 Loss: 3.1427855491638184\n",
      "Epoch 10/100 Loss: 2.8376944065093994\n",
      "Epoch 11/100 Loss: 2.704096555709839\n",
      "Epoch 12/100 Loss: 2.7120821475982666\n",
      "Epoch 13/100 Loss: 2.539100408554077\n",
      "Epoch 14/100 Loss: 2.8046987056732178\n",
      "Epoch 15/100 Loss: 2.85162091255188\n",
      "Epoch 16/100 Loss: 2.872230052947998\n",
      "Epoch 17/100 Loss: 2.8196728229522705\n",
      "Epoch 18/100 Loss: 2.5964040756225586\n",
      "Epoch 19/100 Loss: 2.767179489135742\n",
      "Epoch 20/100 Loss: 2.984663963317871\n",
      "Epoch 21/100 Loss: 2.9043760299682617\n",
      "Epoch 22/100 Loss: 2.872499942779541\n",
      "Epoch 23/100 Loss: 2.760127544403076\n",
      "Epoch 24/100 Loss: 2.822944164276123\n",
      "Epoch 25/100 Loss: 3.1662800312042236\n",
      "Epoch 26/100 Loss: 2.8432693481445312\n",
      "Epoch 27/100 Loss: 2.8703436851501465\n",
      "Epoch 28/100 Loss: 2.8768093585968018\n",
      "Epoch 29/100 Loss: 2.7581868171691895\n",
      "Epoch 30/100 Loss: 2.554673910140991\n",
      "Epoch 31/100 Loss: 2.778716802597046\n",
      "Epoch 32/100 Loss: 2.7834084033966064\n",
      "Epoch 33/100 Loss: 2.7560174465179443\n",
      "Epoch 34/100 Loss: 2.734513759613037\n",
      "Epoch 35/100 Loss: 2.6722795963287354\n",
      "Epoch 36/100 Loss: 2.781871795654297\n",
      "Epoch 37/100 Loss: 2.6618335247039795\n",
      "Epoch 38/100 Loss: 2.69387149810791\n",
      "Epoch 39/100 Loss: 2.735140085220337\n",
      "Epoch 40/100 Loss: 2.73816180229187\n",
      "Epoch 41/100 Loss: 2.6720712184906006\n",
      "Epoch 42/100 Loss: 2.835298776626587\n",
      "Epoch 43/100 Loss: 2.734729290008545\n",
      "Epoch 44/100 Loss: 2.9028167724609375\n",
      "Epoch 45/100 Loss: 2.717646360397339\n",
      "Epoch 46/100 Loss: 2.7240538597106934\n",
      "Epoch 47/100 Loss: 2.649277925491333\n",
      "Epoch 48/100 Loss: 3.0826094150543213\n",
      "Epoch 49/100 Loss: 2.9260106086730957\n",
      "Epoch 50/100 Loss: 2.8329708576202393\n",
      "Epoch 51/100 Loss: 2.887681245803833\n",
      "Epoch 52/100 Loss: 2.6673331260681152\n",
      "Epoch 53/100 Loss: 2.7504465579986572\n",
      "Epoch 54/100 Loss: 2.8772470951080322\n",
      "Epoch 55/100 Loss: 2.9020791053771973\n",
      "Epoch 56/100 Loss: 2.8109447956085205\n",
      "Epoch 57/100 Loss: 2.9932496547698975\n",
      "Epoch 58/100 Loss: 2.748706817626953\n",
      "Epoch 59/100 Loss: 2.7526886463165283\n",
      "Epoch 60/100 Loss: 2.9888031482696533\n",
      "Epoch 61/100 Loss: 2.82222056388855\n",
      "Epoch 62/100 Loss: 2.793783664703369\n",
      "Epoch 63/100 Loss: 2.8148531913757324\n",
      "Epoch 64/100 Loss: 2.7361555099487305\n",
      "Epoch 65/100 Loss: 2.7305428981781006\n",
      "Epoch 66/100 Loss: 2.754363775253296\n",
      "Epoch 67/100 Loss: 2.6375443935394287\n",
      "Epoch 68/100 Loss: 2.9615488052368164\n",
      "Epoch 69/100 Loss: 2.996246337890625\n",
      "Epoch 70/100 Loss: 2.626561164855957\n",
      "Epoch 71/100 Loss: 2.7054264545440674\n",
      "Epoch 72/100 Loss: 2.627729892730713\n",
      "Epoch 73/100 Loss: 2.6845545768737793\n",
      "Epoch 74/100 Loss: 2.5755834579467773\n",
      "Epoch 75/100 Loss: 2.6815755367279053\n",
      "Epoch 76/100 Loss: 2.6521506309509277\n",
      "Epoch 77/100 Loss: 2.7558531761169434\n",
      "Epoch 78/100 Loss: 2.9075515270233154\n",
      "Epoch 79/100 Loss: 2.7143325805664062\n",
      "Epoch 80/100 Loss: 2.942397117614746\n",
      "Epoch 81/100 Loss: 2.6793837547302246\n",
      "Epoch 82/100 Loss: 2.6645824909210205\n",
      "Epoch 83/100 Loss: 2.7751083374023438\n",
      "Epoch 84/100 Loss: 2.632253646850586\n",
      "Epoch 85/100 Loss: 2.813157796859741\n",
      "Epoch 86/100 Loss: 2.831850051879883\n",
      "Epoch 87/100 Loss: 2.706604480743408\n",
      "Epoch 88/100 Loss: 2.631373167037964\n",
      "Epoch 89/100 Loss: 2.781338691711426\n",
      "Epoch 90/100 Loss: 2.672776222229004\n",
      "Epoch 91/100 Loss: 2.6747305393218994\n",
      "Epoch 92/100 Loss: 2.7075307369232178\n",
      "Epoch 93/100 Loss: 2.7040300369262695\n",
      "Epoch 94/100 Loss: 2.696341037750244\n",
      "Epoch 95/100 Loss: 2.553879737854004\n",
      "Epoch 96/100 Loss: 2.5888664722442627\n",
      "Epoch 97/100 Loss: 2.861470937728882\n",
      "Epoch 98/100 Loss: 2.983046770095825\n",
      "Epoch 99/100 Loss: 2.861534357070923\n",
      "Epoch 100/100 Loss: 2.6959688663482666\n",
      "Finished Training\n",
      "training g\n",
      "Epoch 1/100 Loss: 1.3751170635223389\n",
      "Epoch 2/100 Loss: 0.8249326348304749\n",
      "Epoch 3/100 Loss: 0.3284083902835846\n",
      "Epoch 4/100 Loss: 0.28378552198410034\n",
      "Epoch 5/100 Loss: 0.2881946563720703\n",
      "Epoch 6/100 Loss: 0.17614322900772095\n",
      "Epoch 7/100 Loss: 0.17463956773281097\n",
      "Epoch 8/100 Loss: 0.1449747532606125\n",
      "Epoch 9/100 Loss: 0.10955654084682465\n",
      "Epoch 10/100 Loss: 0.17261779308319092\n",
      "Epoch 11/100 Loss: 0.10034191608428955\n",
      "Epoch 12/100 Loss: 0.14182791113853455\n",
      "Epoch 13/100 Loss: 0.08671439439058304\n",
      "Epoch 14/100 Loss: 0.11951863020658493\n",
      "Epoch 15/100 Loss: 0.08470611274242401\n",
      "Epoch 16/100 Loss: 0.07995447516441345\n",
      "Epoch 17/100 Loss: 0.08277451992034912\n",
      "Epoch 18/100 Loss: 0.09360941499471664\n",
      "Epoch 19/100 Loss: 0.10470102727413177\n",
      "Epoch 20/100 Loss: 0.07632021605968475\n",
      "Epoch 21/100 Loss: 0.08141303062438965\n",
      "Epoch 22/100 Loss: 0.07212185859680176\n",
      "Epoch 23/100 Loss: 0.08145830035209656\n",
      "Epoch 24/100 Loss: 0.07687774300575256\n",
      "Epoch 25/100 Loss: 0.07806456089019775\n",
      "Epoch 26/100 Loss: 0.07134538888931274\n",
      "Epoch 27/100 Loss: 0.07947233319282532\n",
      "Epoch 28/100 Loss: 0.07326383143663406\n",
      "Epoch 29/100 Loss: 0.06474132835865021\n",
      "Epoch 30/100 Loss: 0.06155211105942726\n",
      "Epoch 31/100 Loss: 0.0796847715973854\n",
      "Epoch 32/100 Loss: 0.07840034365653992\n",
      "Epoch 33/100 Loss: 0.06481887400150299\n",
      "Epoch 34/100 Loss: 0.0631953775882721\n",
      "Epoch 35/100 Loss: 0.06474490463733673\n",
      "Epoch 36/100 Loss: 0.056718338280916214\n",
      "Epoch 37/100 Loss: 0.06914039701223373\n",
      "Epoch 38/100 Loss: 0.06145063415169716\n",
      "Epoch 39/100 Loss: 0.058644190430641174\n",
      "Epoch 40/100 Loss: 0.057939521968364716\n",
      "Epoch 41/100 Loss: 0.061121512204408646\n",
      "Epoch 42/100 Loss: 0.05742557719349861\n",
      "Epoch 43/100 Loss: 0.05801068991422653\n",
      "Epoch 44/100 Loss: 0.05401001498103142\n",
      "Epoch 45/100 Loss: 0.0592130646109581\n",
      "Epoch 46/100 Loss: 0.0549367219209671\n",
      "Epoch 47/100 Loss: 0.053773876279592514\n",
      "Epoch 48/100 Loss: 0.05074150487780571\n",
      "Epoch 49/100 Loss: 0.05489190295338631\n",
      "Epoch 50/100 Loss: 0.04625827074050903\n",
      "Epoch 51/100 Loss: 0.04911082983016968\n",
      "Epoch 52/100 Loss: 0.054784998297691345\n",
      "Epoch 53/100 Loss: 0.04858233034610748\n",
      "Epoch 54/100 Loss: 0.0501575842499733\n",
      "Epoch 55/100 Loss: 0.052366092801094055\n",
      "Epoch 56/100 Loss: 0.04133782535791397\n",
      "Epoch 57/100 Loss: 0.043933019042015076\n",
      "Epoch 58/100 Loss: 0.04268455505371094\n",
      "Epoch 59/100 Loss: 0.04391314461827278\n",
      "Epoch 60/100 Loss: 0.045224569737911224\n",
      "Epoch 61/100 Loss: 0.04361538961529732\n",
      "Epoch 62/100 Loss: 0.04241666570305824\n",
      "Epoch 63/100 Loss: 0.0499345064163208\n",
      "Epoch 64/100 Loss: 0.04124032333493233\n",
      "Epoch 65/100 Loss: 0.04587768390774727\n",
      "Epoch 66/100 Loss: 0.0381687693297863\n",
      "Epoch 67/100 Loss: 0.04262392967939377\n",
      "Epoch 68/100 Loss: 0.04336148872971535\n",
      "Epoch 69/100 Loss: 0.041126035153865814\n",
      "Epoch 70/100 Loss: 0.047672055661678314\n",
      "Epoch 71/100 Loss: 0.03691614419221878\n",
      "Epoch 72/100 Loss: 0.03700179234147072\n",
      "Epoch 73/100 Loss: 0.039712049067020416\n",
      "Epoch 74/100 Loss: 0.03653884679079056\n",
      "Epoch 75/100 Loss: 0.03542562946677208\n",
      "Epoch 76/100 Loss: 0.037230607122182846\n",
      "Epoch 77/100 Loss: 0.038205839693546295\n",
      "Epoch 78/100 Loss: 0.035045940428972244\n",
      "Epoch 79/100 Loss: 0.031101500615477562\n",
      "Epoch 80/100 Loss: 0.03751673921942711\n",
      "Epoch 81/100 Loss: 0.03635057806968689\n",
      "Epoch 82/100 Loss: 0.03813636675477028\n",
      "Epoch 83/100 Loss: 0.03493811935186386\n",
      "Epoch 84/100 Loss: 0.035114485770463943\n",
      "Epoch 85/100 Loss: 0.034017451107501984\n",
      "Epoch 86/100 Loss: 0.0364004448056221\n",
      "Epoch 87/100 Loss: 0.03229008615016937\n",
      "Epoch 88/100 Loss: 0.03691202029585838\n",
      "Epoch 89/100 Loss: 0.03354796767234802\n",
      "Epoch 90/100 Loss: 0.03269202634692192\n",
      "Epoch 91/100 Loss: 0.032524727284908295\n",
      "Epoch 92/100 Loss: 0.03356265649199486\n",
      "Epoch 93/100 Loss: 0.03629041835665703\n",
      "Epoch 94/100 Loss: 0.0299285426735878\n",
      "Epoch 95/100 Loss: 0.030921222642064095\n",
      "Epoch 96/100 Loss: 0.03044850379228592\n",
      "Epoch 97/100 Loss: 0.032422251999378204\n",
      "Epoch 98/100 Loss: 0.031687427312135696\n",
      "Epoch 99/100 Loss: 0.03436121717095375\n",
      "Epoch 100/100 Loss: 0.026700180023908615\n",
      "Finished Training\n"
     ]
    }
   ],
   "source": [
    "print('training f')\n",
    "gaussian_transport_dataloader = DataLoader(gaussian_transport_dataset, batch_size=50, shuffle=True)\n",
    "PICNNtrain(model_init_f, gaussian_transport_dataloader, epochs=100)\n",
    "\n",
    "print('training g')\n",
    "reversed_gaussian_dataset = MyDataset(gaussian_dataset.Y, gaussian_dataset.C, gaussian_dataset.Y)\n",
    "gaussian_transport_dataset_reversed = get_gaussian_transport_dataset(reversed_gaussian_dataset)\n",
    "gaussian_transport_dataloader_reversed = DataLoader(gaussian_transport_dataset_reversed, batch_size=50, shuffle=True)\n",
    "PICNNtrain(model_init_g, gaussian_transport_dataloader_reversed, epochs=100)"
   ]
  },
  {
   "cell_type": "code",
   "execution_count": 105,
   "metadata": {},
   "outputs": [],
   "source": [
    "state_dict_init_f = model_init_f.state_dict()\n",
    "state_dict_init_g = model_init_g.state_dict()"
   ]
  },
  {
   "cell_type": "code",
   "execution_count": 107,
   "metadata": {},
   "outputs": [
    {
     "data": {
      "image/png": "[encoded data removed]",
      "text/plain": [
       "<Figure size 640x480 with 1 Axes>"
      ]
     },
     "metadata": {},
     "output_type": "display_data"
    }
   ],
   "source": [
    "X = gaussian_dataset.X\n",
    "Y = gaussian_dataset.Y\n",
    "C = gaussian_dataset.C\n",
    "\n",
    "#Calcul de la dérivée du PICNN\n",
    "\n",
    "test = 50\n",
    "x_i = X[test, :, :]\n",
    "y_i = Y[test, :, :]\n",
    "c_i = C[test, :, :]\n",
    "\n",
    "\n",
    "y_i.requires_grad_(True)\n",
    "x_i.requires_grad_(True)\n",
    "#c_i.requires_grad_(True)    \n",
    "\n",
    "output_model = model_init_f(x_i, c_i)\n",
    "\n",
    "grad_model = torch.autograd.grad(outputs=output_model, inputs=x_i, grad_outputs=torch.ones_like(output_model), create_graph=True)[0]\n",
    "\n",
    "plt.hist(X[test, :, 0],  bins=15, label = 'X', density = True)\n",
    "plt.hist(Y[test, :, 0],  bins=15, label = 'Y', density = True)\n",
    "plt.hist(grad_model[:, 0].detach().numpy(),  bins=15, label = 'grad_model', density = True, alpha = 0.5)\n",
    "# plt.hist(X_pred,  bins=15, label = 'X_pred', density = True, alpha = 0.5)\n",
    "\n",
    "plt.legend()\n",
    "\n",
    "plt.show()"
   ]
  },
  {
   "cell_type": "markdown",
   "metadata": {},
   "source": [
    "## __Makkuva__"
   ]
  },
  {
   "cell_type": "code",
   "execution_count": 108,
   "metadata": {},
   "outputs": [
    {
     "data": {
      "text/plain": [
       "<All keys matched successfully>"
      ]
     },
     "execution_count": 108,
     "metadata": {},
     "output_type": "execute_result"
    }
   ],
   "source": [
    "ICNNf = ICNNet(input_size = input_size, layer_sizes = layer_sizes, context_layer_sizes=context_layer_sizes)\n",
    "ICNNg = ICNNet(input_size = input_size, layer_sizes = layer_sizes, context_layer_sizes=context_layer_sizes)\n",
    "\n",
    "# Load the state dictionary into ICNNf and ICNNg\n",
    "ICNNf.load_state_dict(state_dict_init_f)\n",
    "ICNNg.load_state_dict(state_dict_init_g)"
   ]
  },
  {
   "cell_type": "code",
   "execution_count": 109,
   "metadata": {},
   "outputs": [
    {
     "name": "stdout",
     "output_type": "stream",
     "text": [
      "epoch 0\n",
      "loss_g: 2.8044862747192383, loss_f: -9.529709815979004\n",
      "epoch 1\n",
      "loss_g: 1.7789841890335083, loss_f: -6.503457069396973\n",
      "epoch 2\n",
      "loss_g: 1.1317534446716309, loss_f: -4.2651047706604\n",
      "epoch 3\n",
      "loss_g: 0.7582447528839111, loss_f: -2.6981658935546875\n",
      "epoch 4\n",
      "loss_g: 0.5344803929328918, loss_f: -1.6330351829528809\n",
      "epoch 5\n",
      "loss_g: 0.37174269556999207, loss_f: -1.0434820652008057\n",
      "epoch 6\n",
      "loss_g: 0.22975090146064758, loss_f: -0.7562378644943237\n",
      "epoch 7\n",
      "loss_g: 0.10852821171283722, loss_f: -0.5230954885482788\n",
      "epoch 8\n",
      "loss_g: 0.002075908239930868, loss_f: -0.36917731165885925\n",
      "epoch 9\n",
      "loss_g: -0.09401768445968628, loss_f: -0.2960885465145111\n",
      "epoch 10\n",
      "loss_g: -0.1688266396522522, loss_f: -0.25573617219924927\n",
      "epoch 11\n",
      "loss_g: -0.21580103039741516, loss_f: -0.22262297570705414\n",
      "epoch 12\n",
      "loss_g: -0.24114006757736206, loss_f: -0.18783803284168243\n",
      "epoch 13\n",
      "loss_g: -0.2470732182264328, loss_f: -0.14073976874351501\n",
      "epoch 14\n",
      "loss_g: -0.2355533391237259, loss_f: -0.0906907320022583\n",
      "epoch 15\n",
      "loss_g: -0.21556560695171356, loss_f: -0.04249332472681999\n",
      "epoch 16\n",
      "loss_g: -0.19838982820510864, loss_f: -0.003983568865805864\n",
      "epoch 17\n",
      "loss_g: -0.18695154786109924, loss_f: 0.003272158093750477\n",
      "epoch 18\n",
      "loss_g: -0.17728997766971588, loss_f: 0.0244951993227005\n",
      "epoch 19\n",
      "loss_g: -0.17604707181453705, loss_f: 0.02524031326174736\n",
      "epoch 20\n",
      "loss_g: -0.17623229324817657, loss_f: 0.006385160144418478\n",
      "epoch 21\n",
      "loss_g: -0.17407594621181488, loss_f: 0.018785888329148293\n",
      "epoch 22\n",
      "loss_g: -0.19180114567279816, loss_f: -0.01951119489967823\n",
      "epoch 23\n",
      "loss_g: -0.16366592049598694, loss_f: 0.00819659885019064\n",
      "epoch 24\n",
      "loss_g: -0.19456809759140015, loss_f: -0.021321957930922508\n"
     ]
    }
   ],
   "source": [
    "dataloader = DataLoader(dataset, batch_size=100, shuffle=True)\n",
    "\n",
    "for epoch in range(25) :\n",
    "    print('epoch :', epoch + 1)\n",
    "    train_makkuva_epoch(ICNNf, ICNNg, dataloader)"
   ]
  },
  {
   "cell_type": "code",
   "execution_count": 115,
   "metadata": {},
   "outputs": [],
   "source": [
    "# filename_pth_f = 'ICNNf_TR.pth'\n",
    "# filename_pth_g = 'ICNNg_TR.pth'\n",
    "\n",
    "# torch.save(ICNNf.state_dict(), filename_pth_f)\n",
    "# torch.save(ICNNg.state_dict(), filename_pth_g)"
   ]
  },
  {
   "cell_type": "code",
   "execution_count": 114,
   "metadata": {},
   "outputs": [
    {
     "data": {
      "image/png": "[encoded data removed]",
      "text/plain": [
       "<Figure size 640x480 with 1 Axes>"
      ]
     },
     "metadata": {},
     "output_type": "display_data"
    },
    {
     "data": {
      "image/png": "[encoded data removed]",
      "text/plain": [
       "<Figure size 640x480 with 1 Axes>"
      ]
     },
     "metadata": {},
     "output_type": "display_data"
    }
   ],
   "source": [
    "X = dataset.X\n",
    "Y = dataset.Y\n",
    "C = dataset.C\n",
    "\n",
    "#Calcul de la dérivée du PICNN\n",
    "test = 95\n",
    "x_i = X[test, :, :]\n",
    "y_i = Y[test, :, :]\n",
    "c_i = C[test, :, :]\n",
    "\n",
    "\n",
    "y_i.requires_grad_(True)\n",
    "x_i.requires_grad_(True)\n",
    "c_i.requires_grad_(True)    \n",
    "\n",
    "output_model_f = ICNNf(x_i, c_i)\n",
    "grad_model_f = torch.autograd.grad(outputs=output_model_f, inputs=x_i, grad_outputs=torch.ones_like(output_model), create_graph=True)[0]\n",
    "\n",
    "output_model_g = ICNNg(y_i, c_i)\n",
    "grad_model_g = torch.autograd.grad(outputs=output_model_g, inputs=y_i, grad_outputs=torch.ones_like(output_model), create_graph=True)[0]\n",
    "\n",
    "\n",
    "plt.hist(X[test, :, 0],  bins=15, label = 'X', density = True)\n",
    "plt.hist(grad_model_g[:, 0].detach().numpy(),  bins=15, label = 'grad_model g', density = True, alpha = 0.5)\n",
    "plt.legend()\n",
    "plt.show()\n",
    "\n",
    "plt.hist(Y[test, :, 0],  bins=15, label = 'Y', density = True)\n",
    "plt.hist(grad_model_f[:, 0].detach().numpy(),  bins=15, label = 'grad_model f', density = True, alpha = 0.5)\n",
    "plt.legend()\n",
    "plt.show()"
   ]
  }
 ],
 "metadata": {
  "kernelspec": {
   "display_name": "Python 3",
   "language": "python",
   "name": "python3"
  },
  "language_info": {
   "codemirror_mode": {
    "name": "ipython",
    "version": 3
   },
   "file_extension": ".py",
   "mimetype": "text/x-python",
   "name": "python",
   "nbconvert_exporter": "python",
   "pygments_lexer": "ipython3",
   "version": "3.11.6"
  }
 },
 "nbformat": 4,
 "nbformat_minor": 2
}
