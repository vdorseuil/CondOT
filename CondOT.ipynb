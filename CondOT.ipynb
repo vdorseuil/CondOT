{
 "cells": [
  {
   "cell_type": "markdown",
   "metadata": {},
   "source": [
    "## Imports"
   ]
  },
  {
   "cell_type": "code",
   "execution_count": 2,
   "metadata": {},
   "outputs": [],
   "source": [
    "import torch\n",
    "import torch.nn as nn\n",
    "import scipy.stats as stats\n",
    "import numpy as np\n",
    "from torch.utils.data import Dataset, DataLoader\n",
    "from torch import optim\n",
    "import matplotlib.pyplot as plt"
   ]
  },
  {
   "cell_type": "code",
   "execution_count": 3,
   "metadata": {},
   "outputs": [],
   "source": [
    "from icnnet import ICNNet\n",
    "from mydataset import MyDataset\n",
    "import toy_data_dataloader_gaussian\n",
    "\n",
    "from gaussian_transport import compute_A, compute_w, guassian_transport"
   ]
  },
  {
   "cell_type": "code",
   "execution_count": 4,
   "metadata": {},
   "outputs": [],
   "source": [
    "%load_ext autoreload\n",
    "%autoreload 2"
   ]
  },
  {
   "cell_type": "markdown",
   "metadata": {},
   "source": [
    "## Toy data\n"
   ]
  },
  {
   "cell_type": "code",
   "execution_count": 5,
   "metadata": {},
   "outputs": [],
   "source": [
    "dataloader, locs, scales = toy_data_dataloader_gaussian.get_dataloader(N = 500, batch_size = 100, r = 250)"
   ]
  },
  {
   "cell_type": "code",
   "execution_count": 6,
   "metadata": {},
   "outputs": [],
   "source": [
    "# cur_X = dataloader.dataset.X\n",
    "# dataloader.dataset.X = dataloader.dataset.Y\n",
    "# dataloader.dataset.Y = cur_X\n",
    "# C = dataloader.dataset.C"
   ]
  },
  {
   "cell_type": "code",
   "execution_count": 7,
   "metadata": {},
   "outputs": [],
   "source": [
    "cov1 = np.eye(2)\n",
    "cov2 = np.eye(2)\n",
    "m1 = np.zeros(2)\n",
    "m2 = np.ones(2)\n",
    "\n",
    "A = compute_A(cov1, cov2)\n",
    "w = compute_w(m1, m2, A)"
   ]
  },
  {
   "cell_type": "code",
   "execution_count": 8,
   "metadata": {},
   "outputs": [
    {
     "name": "stderr",
     "output_type": "stream",
     "text": [
      "c:\\Users\\dmgtr\\OneDrive - Ecole Polytechnique\\3A\\P2\\MAP588 - EA CondOT\\CondOT\\gaussian_transport.py:29: UserWarning: To copy construct from a tensor, it is recommended to use sourceTensor.clone().detach() or sourceTensor.clone().detach().requires_grad_(True), rather than torch.tensor(sourceTensor).\n",
      "  u = torch.tensor(u)\n"
     ]
    }
   ],
   "source": [
    "x = list()\n",
    "c = list()\n",
    "y_transport = list()\n",
    "for x_batch, c_batch, y_batch in dataloader:\n",
    "    x.append(x_batch)\n",
    "    c.append(c_batch)\n",
    "    results = []\n",
    "    for i in range(x_batch.shape[0]):\n",
    "        for j in range(x_batch.shape[1]):\n",
    "            result = guassian_transport(x_batch[i, j], A, w)\n",
    "            results.append(result)\n",
    "    y_transport.append(torch.stack(results).reshape((x_batch.shape[0], x_batch.shape[1],1)))\n",
    "\n",
    "X = torch.cat(x, dim = 0)\n",
    "C = torch.cat(c, dim = 0)\n",
    "Y = torch.cat(y_transport, dim = 0).float()\n",
    "\n",
    "gaussian_dataset = MyDataset(X, C, Y)\n",
    "gaussian_dataloader = DataLoader(gaussian_dataset, batch_size=100, shuffle=True)"
   ]
  },
  {
   "cell_type": "markdown",
   "metadata": {},
   "source": [
    "## __Training__"
   ]
  },
  {
   "cell_type": "markdown",
   "metadata": {},
   "source": [
    "### PICNN training"
   ]
  },
  {
   "cell_type": "code",
   "execution_count": 16,
   "metadata": {},
   "outputs": [
    {
     "name": "stdout",
     "output_type": "stream",
     "text": [
      "Epoch 1/150 Loss: 4.51391077041626\n",
      "Epoch 2/150 Loss: 3.000880241394043\n",
      "Epoch 3/150 Loss: 2.066343069076538\n",
      "Epoch 4/150 Loss: 2.2694530487060547\n",
      "Epoch 5/150 Loss: 1.9363070726394653\n",
      "Epoch 6/150 Loss: 1.894675612449646\n",
      "Epoch 7/150 Loss: 1.9636106491088867\n",
      "Epoch 8/150 Loss: 1.8544113636016846\n",
      "Epoch 9/150 Loss: 1.819947600364685\n",
      "Epoch 10/150 Loss: 1.7526999711990356\n",
      "Epoch 11/150 Loss: 1.704208493232727\n",
      "Epoch 12/150 Loss: 1.6051980257034302\n",
      "Epoch 13/150 Loss: 1.5429450273513794\n",
      "Epoch 14/150 Loss: 1.458945631980896\n",
      "Epoch 15/150 Loss: 1.318638563156128\n",
      "Epoch 16/150 Loss: 1.1600885391235352\n",
      "Epoch 17/150 Loss: 1.0219417810440063\n",
      "Epoch 18/150 Loss: 0.9168437719345093\n",
      "Epoch 19/150 Loss: 0.7801970839500427\n",
      "Epoch 20/150 Loss: 0.7274410128593445\n",
      "Epoch 21/150 Loss: 0.6427323818206787\n",
      "Epoch 22/150 Loss: 0.6283604502677917\n",
      "Epoch 23/150 Loss: 0.5985327959060669\n",
      "Epoch 24/150 Loss: 0.5716137290000916\n",
      "Epoch 25/150 Loss: 0.543112576007843\n",
      "Epoch 26/150 Loss: 0.5229901671409607\n",
      "Epoch 27/150 Loss: 0.4669593274593353\n",
      "Epoch 28/150 Loss: 0.41692569851875305\n",
      "Epoch 29/150 Loss: 0.3693498969078064\n",
      "Epoch 30/150 Loss: 0.3170250654220581\n",
      "Epoch 31/150 Loss: 0.26769861578941345\n",
      "Epoch 32/150 Loss: 0.19305765628814697\n",
      "Epoch 33/150 Loss: 0.15862639248371124\n",
      "Epoch 34/150 Loss: 0.14297333359718323\n",
      "Epoch 35/150 Loss: 0.12431765347719193\n",
      "Epoch 36/150 Loss: 0.11356831341981888\n",
      "Epoch 37/150 Loss: 0.09858670830726624\n",
      "Epoch 38/150 Loss: 0.09066266566514969\n",
      "Epoch 39/150 Loss: 0.07540575414896011\n",
      "Epoch 40/150 Loss: 0.07060380280017853\n",
      "Epoch 41/150 Loss: 0.06092946231365204\n",
      "Epoch 42/150 Loss: 0.05378345400094986\n",
      "Epoch 43/150 Loss: 0.047542378306388855\n",
      "Epoch 44/150 Loss: 0.04342459514737129\n",
      "Epoch 45/150 Loss: 0.0370640829205513\n",
      "Epoch 46/150 Loss: 0.034101635217666626\n",
      "Epoch 47/150 Loss: 0.028478745371103287\n",
      "Epoch 48/150 Loss: 0.02775314450263977\n",
      "Epoch 49/150 Loss: 0.023142822086811066\n",
      "Epoch 50/150 Loss: 0.018080661073327065\n",
      "Epoch 51/150 Loss: 0.01596613973379135\n",
      "Epoch 52/150 Loss: 0.014342829585075378\n",
      "Epoch 53/150 Loss: 0.011588877066969872\n",
      "Epoch 54/150 Loss: 0.010521989315748215\n",
      "Epoch 55/150 Loss: 0.009790580719709396\n",
      "Epoch 56/150 Loss: 0.008824396878480911\n",
      "Epoch 57/150 Loss: 0.007600463926792145\n",
      "Epoch 58/150 Loss: 0.007634581997990608\n",
      "Epoch 59/150 Loss: 0.0065527623519301414\n",
      "Epoch 60/150 Loss: 0.006588376592844725\n",
      "Epoch 61/150 Loss: 0.006804209202528\n",
      "Epoch 62/150 Loss: 0.006540445610880852\n",
      "Epoch 63/150 Loss: 0.006454506888985634\n",
      "Epoch 64/150 Loss: 0.0055452086962759495\n",
      "Epoch 65/150 Loss: 0.004905980080366135\n",
      "Epoch 66/150 Loss: 0.004715802613645792\n",
      "Epoch 67/150 Loss: 0.004557487089186907\n",
      "Epoch 68/150 Loss: 0.004086279775947332\n",
      "Epoch 69/150 Loss: 0.0038645355962216854\n",
      "Epoch 70/150 Loss: 0.003660232527181506\n",
      "Epoch 71/150 Loss: 0.0035918662324547768\n",
      "Epoch 72/150 Loss: 0.003695889376103878\n",
      "Epoch 73/150 Loss: 0.0035473702009767294\n",
      "Epoch 74/150 Loss: 0.003159269690513611\n",
      "Epoch 75/150 Loss: 0.0029584222938865423\n",
      "Epoch 76/150 Loss: 0.0028237837832421064\n",
      "Epoch 77/150 Loss: 0.0023283667396754026\n",
      "Epoch 78/150 Loss: 0.003015886526554823\n",
      "Epoch 79/150 Loss: 0.002649647882208228\n",
      "Epoch 80/150 Loss: 0.002165804849937558\n",
      "Epoch 81/150 Loss: 0.002373302588239312\n",
      "Epoch 82/150 Loss: 0.0020536622032523155\n",
      "Epoch 83/150 Loss: 0.0019663460552692413\n",
      "Epoch 84/150 Loss: 0.001683611422777176\n",
      "Epoch 85/150 Loss: 0.0017136414535343647\n",
      "Epoch 86/150 Loss: 0.0018785558640956879\n",
      "Epoch 87/150 Loss: 0.0015398184768855572\n",
      "Epoch 88/150 Loss: 0.0014350288547575474\n",
      "Epoch 89/150 Loss: 0.0015871964860707521\n",
      "Epoch 90/150 Loss: 0.0015224574599415064\n",
      "Epoch 91/150 Loss: 0.0012407605536282063\n",
      "Epoch 92/150 Loss: 0.001121779903769493\n",
      "Epoch 93/150 Loss: 0.0013289665803313255\n",
      "Epoch 94/150 Loss: 0.0013528659474104643\n",
      "Epoch 95/150 Loss: 0.0010224208235740662\n",
      "Epoch 96/150 Loss: 0.0012889825738966465\n",
      "Epoch 97/150 Loss: 0.0009414456435479224\n",
      "Epoch 98/150 Loss: 0.0008744699298404157\n",
      "Epoch 99/150 Loss: 0.0008173664100468159\n",
      "Epoch 100/150 Loss: 0.0008843811228871346\n",
      "Epoch 101/150 Loss: 0.0008508464088663459\n",
      "Epoch 102/150 Loss: 0.0007930477149784565\n",
      "Epoch 103/150 Loss: 0.0010620771208778024\n"
     ]
    },
    {
     "ename": "KeyboardInterrupt",
     "evalue": "",
     "output_type": "error",
     "traceback": [
      "\u001b[1;31m---------------------------------------------------------------------------\u001b[0m",
      "\u001b[1;31mKeyboardInterrupt\u001b[0m                         Traceback (most recent call last)",
      "Cell \u001b[1;32mIn[16], line 20\u001b[0m\n\u001b[0;32m     16\u001b[0m c_batch\u001b[38;5;241m.\u001b[39mrequires_grad_(\u001b[38;5;28;01mTrue\u001b[39;00m)\n\u001b[0;32m     18\u001b[0m optimizer\u001b[38;5;241m.\u001b[39mzero_grad() \u001b[38;5;66;03m# Zero the gradients\u001b[39;00m\n\u001b[1;32m---> 20\u001b[0m output \u001b[38;5;241m=\u001b[39m \u001b[43mmodel\u001b[49m\u001b[43m(\u001b[49m\u001b[43mx_batch\u001b[49m\u001b[43m,\u001b[49m\u001b[43m \u001b[49m\u001b[43mc_batch\u001b[49m\u001b[43m)\u001b[49m  \u001b[38;5;66;03m# Assuming context c is same as input x\u001b[39;00m\n\u001b[0;32m     22\u001b[0m loss \u001b[38;5;241m=\u001b[39m criterion(output, y_batch) \u001b[38;5;66;03m# Compute the loss\u001b[39;00m\n\u001b[0;32m     23\u001b[0m loss\u001b[38;5;241m.\u001b[39mbackward() \u001b[38;5;66;03m# Backward pass\u001b[39;00m\n",
      "File \u001b[1;32mc:\\Users\\dmgtr\\AppData\\Local\\Programs\\Python\\Python311\\Lib\\site-packages\\torch\\nn\\modules\\module.py:1518\u001b[0m, in \u001b[0;36mModule._wrapped_call_impl\u001b[1;34m(self, *args, **kwargs)\u001b[0m\n\u001b[0;32m   1516\u001b[0m     \u001b[38;5;28;01mreturn\u001b[39;00m \u001b[38;5;28mself\u001b[39m\u001b[38;5;241m.\u001b[39m_compiled_call_impl(\u001b[38;5;241m*\u001b[39margs, \u001b[38;5;241m*\u001b[39m\u001b[38;5;241m*\u001b[39mkwargs)  \u001b[38;5;66;03m# type: ignore[misc]\u001b[39;00m\n\u001b[0;32m   1517\u001b[0m \u001b[38;5;28;01melse\u001b[39;00m:\n\u001b[1;32m-> 1518\u001b[0m     \u001b[38;5;28;01mreturn\u001b[39;00m \u001b[38;5;28;43mself\u001b[39;49m\u001b[38;5;241;43m.\u001b[39;49m\u001b[43m_call_impl\u001b[49m\u001b[43m(\u001b[49m\u001b[38;5;241;43m*\u001b[39;49m\u001b[43margs\u001b[49m\u001b[43m,\u001b[49m\u001b[43m \u001b[49m\u001b[38;5;241;43m*\u001b[39;49m\u001b[38;5;241;43m*\u001b[39;49m\u001b[43mkwargs\u001b[49m\u001b[43m)\u001b[49m\n",
      "File \u001b[1;32mc:\\Users\\dmgtr\\AppData\\Local\\Programs\\Python\\Python311\\Lib\\site-packages\\torch\\nn\\modules\\module.py:1527\u001b[0m, in \u001b[0;36mModule._call_impl\u001b[1;34m(self, *args, **kwargs)\u001b[0m\n\u001b[0;32m   1522\u001b[0m \u001b[38;5;66;03m# If we don't have any hooks, we want to skip the rest of the logic in\u001b[39;00m\n\u001b[0;32m   1523\u001b[0m \u001b[38;5;66;03m# this function, and just call forward.\u001b[39;00m\n\u001b[0;32m   1524\u001b[0m \u001b[38;5;28;01mif\u001b[39;00m \u001b[38;5;129;01mnot\u001b[39;00m (\u001b[38;5;28mself\u001b[39m\u001b[38;5;241m.\u001b[39m_backward_hooks \u001b[38;5;129;01mor\u001b[39;00m \u001b[38;5;28mself\u001b[39m\u001b[38;5;241m.\u001b[39m_backward_pre_hooks \u001b[38;5;129;01mor\u001b[39;00m \u001b[38;5;28mself\u001b[39m\u001b[38;5;241m.\u001b[39m_forward_hooks \u001b[38;5;129;01mor\u001b[39;00m \u001b[38;5;28mself\u001b[39m\u001b[38;5;241m.\u001b[39m_forward_pre_hooks\n\u001b[0;32m   1525\u001b[0m         \u001b[38;5;129;01mor\u001b[39;00m _global_backward_pre_hooks \u001b[38;5;129;01mor\u001b[39;00m _global_backward_hooks\n\u001b[0;32m   1526\u001b[0m         \u001b[38;5;129;01mor\u001b[39;00m _global_forward_hooks \u001b[38;5;129;01mor\u001b[39;00m _global_forward_pre_hooks):\n\u001b[1;32m-> 1527\u001b[0m     \u001b[38;5;28;01mreturn\u001b[39;00m \u001b[43mforward_call\u001b[49m\u001b[43m(\u001b[49m\u001b[38;5;241;43m*\u001b[39;49m\u001b[43margs\u001b[49m\u001b[43m,\u001b[49m\u001b[43m \u001b[49m\u001b[38;5;241;43m*\u001b[39;49m\u001b[38;5;241;43m*\u001b[39;49m\u001b[43mkwargs\u001b[49m\u001b[43m)\u001b[49m\n\u001b[0;32m   1529\u001b[0m \u001b[38;5;28;01mtry\u001b[39;00m:\n\u001b[0;32m   1530\u001b[0m     result \u001b[38;5;241m=\u001b[39m \u001b[38;5;28;01mNone\u001b[39;00m\n",
      "File \u001b[1;32mc:\\Users\\dmgtr\\OneDrive - Ecole Polytechnique\\3A\\P2\\MAP588 - EA CondOT\\CondOT\\icnnet.py:61\u001b[0m, in \u001b[0;36mICNNet.forward\u001b[1;34m(self, x, c)\u001b[0m\n\u001b[0;32m     59\u001b[0m     u \u001b[38;5;241m=\u001b[39m \u001b[38;5;28mself\u001b[39m\u001b[38;5;241m.\u001b[39mlayers_v[i](u)\n\u001b[0;32m     60\u001b[0m \u001b[38;5;28;01melse\u001b[39;00m : \n\u001b[1;32m---> 61\u001b[0m     z \u001b[38;5;241m=\u001b[39m \u001b[38;5;28;43mself\u001b[39;49m\u001b[38;5;241;43m.\u001b[39;49m\u001b[43mlayers_activation\u001b[49m\u001b[43m[\u001b[49m\u001b[43mi\u001b[49m\u001b[43m]\u001b[49m\u001b[43m(\u001b[49m\u001b[38;5;28;43mself\u001b[39;49m\u001b[38;5;241;43m.\u001b[39;49m\u001b[43mlayers_z\u001b[49m\u001b[43m[\u001b[49m\u001b[43mi\u001b[49m\u001b[43m]\u001b[49m\u001b[43m(\u001b[49m\u001b[43mz\u001b[49m\u001b[43m \u001b[49m\u001b[38;5;241;43m*\u001b[39;49m\u001b[43m \u001b[49m\u001b[38;5;28;43mself\u001b[39;49m\u001b[38;5;241;43m.\u001b[39;49m\u001b[43mlayers_zu\u001b[49m\u001b[43m[\u001b[49m\u001b[43mi\u001b[49m\u001b[43m]\u001b[49m\u001b[43m(\u001b[49m\u001b[43mu\u001b[49m\u001b[43m)\u001b[49m\u001b[43m)\u001b[49m\u001b[43m \u001b[49m\u001b[38;5;241;43m+\u001b[39;49m\u001b[43m \u001b[49m\u001b[38;5;28;43mself\u001b[39;49m\u001b[38;5;241;43m.\u001b[39;49m\u001b[43mlayers_x\u001b[49m\u001b[43m[\u001b[49m\u001b[43mi\u001b[49m\u001b[43m]\u001b[49m\u001b[43m(\u001b[49m\u001b[38;5;28;43minput\u001b[39;49m\u001b[43m \u001b[49m\u001b[38;5;241;43m*\u001b[39;49m\u001b[43m \u001b[49m\u001b[38;5;28;43mself\u001b[39;49m\u001b[38;5;241;43m.\u001b[39;49m\u001b[43mlayers_xu\u001b[49m\u001b[43m[\u001b[49m\u001b[43mi\u001b[49m\u001b[43m]\u001b[49m\u001b[43m(\u001b[49m\u001b[43mu\u001b[49m\u001b[43m)\u001b[49m\u001b[43m)\u001b[49m\u001b[43m \u001b[49m\u001b[38;5;241;43m+\u001b[39;49m\u001b[43m \u001b[49m\u001b[38;5;28;43mself\u001b[39;49m\u001b[38;5;241;43m.\u001b[39;49m\u001b[43mlayers_u\u001b[49m\u001b[43m[\u001b[49m\u001b[43mi\u001b[49m\u001b[43m]\u001b[49m\u001b[43m(\u001b[49m\u001b[43mu\u001b[49m\u001b[43m)\u001b[49m\u001b[43m)\u001b[49m\n\u001b[0;32m     62\u001b[0m     u \u001b[38;5;241m=\u001b[39m \u001b[38;5;28mself\u001b[39m\u001b[38;5;241m.\u001b[39mlayers_v[i](u)\n\u001b[0;32m     65\u001b[0m \u001b[38;5;66;03m# z_shape = z.shape\u001b[39;00m\n\u001b[0;32m     66\u001b[0m \u001b[38;5;66;03m# z = z.view(-1, z.shape[-1])\u001b[39;00m\n\u001b[0;32m     67\u001b[0m \u001b[38;5;66;03m# # Apply batch normalization\u001b[39;00m\n\u001b[1;32m   (...)\u001b[0m\n\u001b[0;32m     76\u001b[0m \u001b[38;5;66;03m# # Reshape accordingly\u001b[39;00m\n\u001b[0;32m     77\u001b[0m \u001b[38;5;66;03m# u = u.view(u_shape)\u001b[39;00m\n",
      "File \u001b[1;32mc:\\Users\\dmgtr\\AppData\\Local\\Programs\\Python\\Python311\\Lib\\site-packages\\torch\\nn\\modules\\module.py:1518\u001b[0m, in \u001b[0;36mModule._wrapped_call_impl\u001b[1;34m(self, *args, **kwargs)\u001b[0m\n\u001b[0;32m   1516\u001b[0m     \u001b[38;5;28;01mreturn\u001b[39;00m \u001b[38;5;28mself\u001b[39m\u001b[38;5;241m.\u001b[39m_compiled_call_impl(\u001b[38;5;241m*\u001b[39margs, \u001b[38;5;241m*\u001b[39m\u001b[38;5;241m*\u001b[39mkwargs)  \u001b[38;5;66;03m# type: ignore[misc]\u001b[39;00m\n\u001b[0;32m   1517\u001b[0m \u001b[38;5;28;01melse\u001b[39;00m:\n\u001b[1;32m-> 1518\u001b[0m     \u001b[38;5;28;01mreturn\u001b[39;00m \u001b[38;5;28;43mself\u001b[39;49m\u001b[38;5;241;43m.\u001b[39;49m\u001b[43m_call_impl\u001b[49m\u001b[43m(\u001b[49m\u001b[38;5;241;43m*\u001b[39;49m\u001b[43margs\u001b[49m\u001b[43m,\u001b[49m\u001b[43m \u001b[49m\u001b[38;5;241;43m*\u001b[39;49m\u001b[38;5;241;43m*\u001b[39;49m\u001b[43mkwargs\u001b[49m\u001b[43m)\u001b[49m\n",
      "File \u001b[1;32mc:\\Users\\dmgtr\\AppData\\Local\\Programs\\Python\\Python311\\Lib\\site-packages\\torch\\nn\\modules\\module.py:1527\u001b[0m, in \u001b[0;36mModule._call_impl\u001b[1;34m(self, *args, **kwargs)\u001b[0m\n\u001b[0;32m   1522\u001b[0m \u001b[38;5;66;03m# If we don't have any hooks, we want to skip the rest of the logic in\u001b[39;00m\n\u001b[0;32m   1523\u001b[0m \u001b[38;5;66;03m# this function, and just call forward.\u001b[39;00m\n\u001b[0;32m   1524\u001b[0m \u001b[38;5;28;01mif\u001b[39;00m \u001b[38;5;129;01mnot\u001b[39;00m (\u001b[38;5;28mself\u001b[39m\u001b[38;5;241m.\u001b[39m_backward_hooks \u001b[38;5;129;01mor\u001b[39;00m \u001b[38;5;28mself\u001b[39m\u001b[38;5;241m.\u001b[39m_backward_pre_hooks \u001b[38;5;129;01mor\u001b[39;00m \u001b[38;5;28mself\u001b[39m\u001b[38;5;241m.\u001b[39m_forward_hooks \u001b[38;5;129;01mor\u001b[39;00m \u001b[38;5;28mself\u001b[39m\u001b[38;5;241m.\u001b[39m_forward_pre_hooks\n\u001b[0;32m   1525\u001b[0m         \u001b[38;5;129;01mor\u001b[39;00m _global_backward_pre_hooks \u001b[38;5;129;01mor\u001b[39;00m _global_backward_hooks\n\u001b[0;32m   1526\u001b[0m         \u001b[38;5;129;01mor\u001b[39;00m _global_forward_hooks \u001b[38;5;129;01mor\u001b[39;00m _global_forward_pre_hooks):\n\u001b[1;32m-> 1527\u001b[0m     \u001b[38;5;28;01mreturn\u001b[39;00m \u001b[43mforward_call\u001b[49m\u001b[43m(\u001b[49m\u001b[38;5;241;43m*\u001b[39;49m\u001b[43margs\u001b[49m\u001b[43m,\u001b[49m\u001b[43m \u001b[49m\u001b[38;5;241;43m*\u001b[39;49m\u001b[38;5;241;43m*\u001b[39;49m\u001b[43mkwargs\u001b[49m\u001b[43m)\u001b[49m\n\u001b[0;32m   1529\u001b[0m \u001b[38;5;28;01mtry\u001b[39;00m:\n\u001b[0;32m   1530\u001b[0m     result \u001b[38;5;241m=\u001b[39m \u001b[38;5;28;01mNone\u001b[39;00m\n",
      "File \u001b[1;32mc:\\Users\\dmgtr\\AppData\\Local\\Programs\\Python\\Python311\\Lib\\site-packages\\torch\\nn\\modules\\activation.py:840\u001b[0m, in \u001b[0;36mSoftplus.forward\u001b[1;34m(self, input)\u001b[0m\n\u001b[0;32m    839\u001b[0m \u001b[38;5;28;01mdef\u001b[39;00m \u001b[38;5;21mforward\u001b[39m(\u001b[38;5;28mself\u001b[39m, \u001b[38;5;28minput\u001b[39m: Tensor) \u001b[38;5;241m-\u001b[39m\u001b[38;5;241m>\u001b[39m Tensor:\n\u001b[1;32m--> 840\u001b[0m     \u001b[38;5;28;01mreturn\u001b[39;00m \u001b[43mF\u001b[49m\u001b[38;5;241;43m.\u001b[39;49m\u001b[43msoftplus\u001b[49m\u001b[43m(\u001b[49m\u001b[38;5;28;43minput\u001b[39;49m\u001b[43m,\u001b[49m\u001b[43m \u001b[49m\u001b[38;5;28;43mself\u001b[39;49m\u001b[38;5;241;43m.\u001b[39;49m\u001b[43mbeta\u001b[49m\u001b[43m,\u001b[49m\u001b[43m \u001b[49m\u001b[38;5;28;43mself\u001b[39;49m\u001b[38;5;241;43m.\u001b[39;49m\u001b[43mthreshold\u001b[49m\u001b[43m)\u001b[49m\n",
      "\u001b[1;31mKeyboardInterrupt\u001b[0m: "
     ]
    }
   ],
   "source": [
    "epochs = 100\n",
    "\n",
    "# Initialize the model\n",
    "input_size = 2\n",
    "output_size = 1\n",
    "\n",
    "model = ICNNet(input_size = input_size, layer_sizes = [input_size, 64, 64, 64,output_size], context_layer_sizes=[input_size, 64, 64, 64,output_size])\n",
    "\n",
    "# Define the loss function and the optimizer\n",
    "criterion = nn.MSELoss()\n",
    "optimizer = optim.Adam(model.parameters())\n",
    "\n",
    "for epoch in range(epochs):\n",
    "    for x_batch, c_batch, y_batch in gaussian_dataloader:\n",
    "        x_batch.requires_grad_(True)\n",
    "        c_batch.requires_grad_(True)\n",
    "\n",
    "        optimizer.zero_grad() # Zero the gradients\n",
    "        \n",
    "        output = model(x_batch, c_batch)  # Assuming context c is same as input x\n",
    "\n",
    "        loss = criterion(output, y_batch) # Compute the loss\n",
    "        loss.backward() # Backward pass\n",
    "\n",
    "        optimizer.step() # Update the parameters\n",
    "        for layers_k in model.layers_z:\n",
    "            for param in layers_k.parameters():\n",
    "                param.data.clamp_min_(0)\n",
    "\n",
    "    # for name, parameter in model.named_parameters():\n",
    "    #     if parameter.requires_grad and parameter.grad is not None:\n",
    "    #         grad_norm = parameter.grad.norm().item()\n",
    "    #         print(f\"Gradient norm for {name}: {grad_norm}\")\n",
    "    \n",
    "    print(f\"Epoch {epoch+1}/{epochs} Loss: {loss.item()}\")"
   ]
  },
  {
   "cell_type": "code",
   "execution_count": 21,
   "metadata": {},
   "outputs": [
    {
     "data": {
      "image/png": "[encoded data removed]",
      "text/plain": [
       "<Figure size 640x480 with 1 Axes>"
      ]
     },
     "metadata": {},
     "output_type": "display_data"
    }
   ],
   "source": [
    "X = dataloader.dataset.X\n",
    "Y = dataloader.dataset.Y\n",
    "C = dataloader.dataset.C\n",
    "\n",
    "#Calcul de la dérivée du PICNN\n",
    "\n",
    "test = 20\n",
    "x_i = X[test, :, :]\n",
    "y_i = Y[test, :, :]\n",
    "c_i = C[test, :, :]\n",
    "\n",
    "\n",
    "y_i.requires_grad_(True)\n",
    "x_i.requires_grad_(True)\n",
    "#c_i.requires_grad_(True)    \n",
    "\n",
    "output_model = model(x_i, c_i)\n",
    "\n",
    "grad_model = torch.autograd.grad(outputs=output_model, inputs=x_i, grad_outputs=torch.ones_like(output_model), create_graph=True)[0]\n",
    "\n",
    "plt.hist(X[test, :, 0],  bins=15, label = 'X', density = True)\n",
    "plt.hist(Y[test, :, 0],  bins=15, label = 'Y', density = True)\n",
    "plt.hist(grad_model[:, 0].detach().numpy(),  bins=15, label = 'grad_model', density = True, alpha = 0.5)\n",
    "# plt.hist(X_pred,  bins=15, label = 'X_pred', density = True, alpha = 0.5)\n",
    "\n",
    "plt.legend()\n",
    "\n",
    "plt.show()"
   ]
  },
  {
   "cell_type": "markdown",
   "metadata": {},
   "source": [
    "### PICNN training"
   ]
  },
  {
   "cell_type": "markdown",
   "metadata": {},
   "source": [
    "## __Makkuva__"
   ]
  },
  {
   "cell_type": "code",
   "execution_count": 25,
   "metadata": {},
   "outputs": [
    {
     "data": {
      "text/plain": [
       "<All keys matched successfully>"
      ]
     },
     "execution_count": 25,
     "metadata": {},
     "output_type": "execute_result"
    }
   ],
   "source": [
    "# Initialize the model\n",
    "input_size = 2\n",
    "output_size = 1\n",
    "\n",
    "ICNNf = ICNNet(input_size = input_size, layer_sizes = [input_size, 64, 64, 64,output_size], context_layer_sizes=[input_size, 64, 64, 64,output_size])\n",
    "ICNNg = ICNNet(input_size = input_size, layer_sizes = [input_size, 64, 64, 64,output_size], context_layer_sizes=[input_size, 64, 64, 64,output_size])\n",
    "\n",
    "# Get the state dictionary from the trained model\n",
    "state_dict = model.state_dict()\n",
    "\n",
    "# Load the state dictionary into ICNNf and ICNNg\n",
    "ICNNf.load_state_dict(state_dict)\n",
    "ICNNg.load_state_dict(state_dict)"
   ]
  },
  {
   "cell_type": "code",
   "execution_count": 27,
   "metadata": {},
   "outputs": [
    {
     "name": "stdout",
     "output_type": "stream",
     "text": [
      "Epoch 1/100 loss_g: -1.3055387735366821, loss_f: -3.714592456817627\n",
      "Epoch 2/100 loss_g: -1.558555006980896, loss_f: -2.9307920932769775\n",
      "Epoch 3/100 loss_g: -1.5278503894805908, loss_f: -2.235508918762207\n",
      "Epoch 4/100 loss_g: -1.320218563079834, loss_f: -1.6134603023529053\n",
      "Epoch 5/100 loss_g: -1.0302990674972534, loss_f: -1.0864973068237305\n",
      "Epoch 6/100 loss_g: -0.7891767621040344, loss_f: -0.6673937439918518\n",
      "Epoch 7/100 loss_g: -0.605980396270752, loss_f: -0.3460124731063843\n",
      "Epoch 8/100 loss_g: -0.46377837657928467, loss_f: -0.07545322179794312\n",
      "Epoch 9/100 loss_g: -0.3992496430873871, loss_f: 0.05192570760846138\n",
      "Epoch 10/100 loss_g: -0.3587835431098938, loss_f: 0.21489502489566803\n",
      "Epoch 11/100 loss_g: -0.3325187563896179, loss_f: 0.17168672382831573\n",
      "Epoch 12/100 loss_g: -0.3757939040660858, loss_f: 0.13789121806621552\n",
      "Epoch 13/100 loss_g: -0.4235086143016815, loss_f: 0.09974297881126404\n",
      "Epoch 14/100 loss_g: -0.4772246479988098, loss_f: -0.022901250049471855\n",
      "Epoch 15/100 loss_g: -0.4873417615890503, loss_f: -0.08792909979820251\n",
      "Epoch 16/100 loss_g: -0.5474558472633362, loss_f: -0.15307343006134033\n",
      "Epoch 17/100 loss_g: -0.5660101175308228, loss_f: -0.20087021589279175\n",
      "Epoch 18/100 loss_g: -0.5786501169204712, loss_f: -0.21219734847545624\n",
      "Epoch 19/100 loss_g: -0.5633485913276672, loss_f: -0.2831471562385559\n",
      "Epoch 20/100 loss_g: -0.5154213905334473, loss_f: -0.1908426135778427\n",
      "Epoch 21/100 loss_g: -0.49876081943511963, loss_f: -0.19970795512199402\n",
      "Epoch 22/100 loss_g: -0.44271934032440186, loss_f: -0.1181156188249588\n",
      "Epoch 23/100 loss_g: -0.4090554416179657, loss_f: -0.09531799703836441\n",
      "Epoch 24/100 loss_g: -0.34945210814476013, loss_f: -0.07514789700508118\n",
      "Epoch 25/100 loss_g: -0.3303421139717102, loss_f: 0.007207768969237804\n",
      "Epoch 26/100 loss_g: -0.3058570921421051, loss_f: -0.07990802079439163\n",
      "Epoch 27/100 loss_g: -0.30076685547828674, loss_f: -0.029538478702306747\n",
      "Epoch 28/100 loss_g: -0.2830304801464081, loss_f: -0.03805283084511757\n",
      "Epoch 29/100 loss_g: -0.27523744106292725, loss_f: -0.020297691226005554\n",
      "Epoch 30/100 loss_g: -0.2722281515598297, loss_f: -0.0391835980117321\n",
      "Epoch 31/100 loss_g: -0.26439371705055237, loss_f: -0.016405491158366203\n",
      "Epoch 32/100 loss_g: -0.276193231344223, loss_f: -0.007283455226570368\n",
      "Epoch 33/100 loss_g: -0.274466872215271, loss_f: -0.058357369154691696\n",
      "Epoch 34/100 loss_g: -0.2438138723373413, loss_f: -0.053021885454654694\n",
      "Epoch 35/100 loss_g: -0.25540485978126526, loss_f: -0.027776191011071205\n",
      "Epoch 36/100 loss_g: -0.24509410560131073, loss_f: -0.021159306168556213\n",
      "Epoch 37/100 loss_g: -0.21004661917686462, loss_f: -0.016326429322361946\n",
      "Epoch 38/100 loss_g: -0.2110118865966797, loss_f: -0.034478407353162766\n",
      "Epoch 39/100 loss_g: -0.24259762465953827, loss_f: -0.022460365667939186\n",
      "Epoch 40/100 loss_g: -0.24007633328437805, loss_f: -0.0030590123496949673\n",
      "Epoch 41/100 loss_g: -0.2151363343000412, loss_f: -0.030965914949774742\n",
      "Epoch 42/100 loss_g: -0.2168603092432022, loss_f: -0.04375871270895004\n",
      "Epoch 43/100 loss_g: -0.24196308851242065, loss_f: -0.05472144857048988\n",
      "Epoch 44/100 loss_g: -0.22514724731445312, loss_f: -0.023952651768922806\n",
      "Epoch 45/100 loss_g: -0.21291564404964447, loss_f: -0.03357064351439476\n",
      "Epoch 46/100 loss_g: -0.22127996385097504, loss_f: -0.04859693720936775\n",
      "Epoch 47/100 loss_g: -0.22340869903564453, loss_f: -0.06590663641691208\n",
      "Epoch 48/100 loss_g: -0.22502659261226654, loss_f: -0.024828076362609863\n",
      "Epoch 49/100 loss_g: -0.21680080890655518, loss_f: -0.05279966816306114\n",
      "Epoch 50/100 loss_g: -0.22876030206680298, loss_f: -0.03827592730522156\n",
      "Epoch 51/100 loss_g: -0.19432702660560608, loss_f: -0.027771586552262306\n"
     ]
    },
    {
     "ename": "KeyboardInterrupt",
     "evalue": "",
     "output_type": "error",
     "traceback": [
      "\u001b[1;31m---------------------------------------------------------------------------\u001b[0m",
      "\u001b[1;31mKeyboardInterrupt\u001b[0m                         Traceback (most recent call last)",
      "Cell \u001b[1;32mIn[27], line 22\u001b[0m\n\u001b[0;32m     19\u001b[0m output_g \u001b[38;5;241m=\u001b[39m ICNNg(y, c)\n\u001b[0;32m     20\u001b[0m grad_g \u001b[38;5;241m=\u001b[39m torch\u001b[38;5;241m.\u001b[39mautograd\u001b[38;5;241m.\u001b[39mgrad(output_g, y, grad_outputs\u001b[38;5;241m=\u001b[39mtorch\u001b[38;5;241m.\u001b[39mones_like(output_g), create_graph\u001b[38;5;241m=\u001b[39m\u001b[38;5;28;01mTrue\u001b[39;00m)[\u001b[38;5;241m0\u001b[39m]\n\u001b[1;32m---> 22\u001b[0m loss_g \u001b[38;5;241m=\u001b[39m \u001b[43mICNNf\u001b[49m\u001b[43m(\u001b[49m\u001b[43mgrad_g\u001b[49m\u001b[43m,\u001b[49m\u001b[43m \u001b[49m\u001b[43mc\u001b[49m\u001b[43m)\u001b[49m \u001b[38;5;241m-\u001b[39m torch\u001b[38;5;241m.\u001b[39msum(y \u001b[38;5;241m*\u001b[39m grad_g, dim\u001b[38;5;241m=\u001b[39m\u001b[38;5;241m-\u001b[39m\u001b[38;5;241m1\u001b[39m, keepdim\u001b[38;5;241m=\u001b[39m\u001b[38;5;28;01mTrue\u001b[39;00m)\n\u001b[0;32m     23\u001b[0m loss_g \u001b[38;5;241m=\u001b[39m loss_g\u001b[38;5;241m.\u001b[39mmean(dim\u001b[38;5;241m=\u001b[39m(\u001b[38;5;241m1\u001b[39m, \u001b[38;5;241m2\u001b[39m))\u001b[38;5;241m.\u001b[39mmean()\n\u001b[0;32m     25\u001b[0m \u001b[38;5;66;03m#print('min f(grad_g, c)', ICNNf(grad_g, c)[0][0])\u001b[39;00m\n\u001b[0;32m     26\u001b[0m \u001b[38;5;66;03m#print('max f(grad_g, c)', torch.sum(y * grad_g, dim=-1, keepdim=True)[0][0])\u001b[39;00m\n",
      "File \u001b[1;32mc:\\Users\\dmgtr\\AppData\\Local\\Programs\\Python\\Python311\\Lib\\site-packages\\torch\\nn\\modules\\module.py:1518\u001b[0m, in \u001b[0;36mModule._wrapped_call_impl\u001b[1;34m(self, *args, **kwargs)\u001b[0m\n\u001b[0;32m   1516\u001b[0m     \u001b[38;5;28;01mreturn\u001b[39;00m \u001b[38;5;28mself\u001b[39m\u001b[38;5;241m.\u001b[39m_compiled_call_impl(\u001b[38;5;241m*\u001b[39margs, \u001b[38;5;241m*\u001b[39m\u001b[38;5;241m*\u001b[39mkwargs)  \u001b[38;5;66;03m# type: ignore[misc]\u001b[39;00m\n\u001b[0;32m   1517\u001b[0m \u001b[38;5;28;01melse\u001b[39;00m:\n\u001b[1;32m-> 1518\u001b[0m     \u001b[38;5;28;01mreturn\u001b[39;00m \u001b[38;5;28;43mself\u001b[39;49m\u001b[38;5;241;43m.\u001b[39;49m\u001b[43m_call_impl\u001b[49m\u001b[43m(\u001b[49m\u001b[38;5;241;43m*\u001b[39;49m\u001b[43margs\u001b[49m\u001b[43m,\u001b[49m\u001b[43m \u001b[49m\u001b[38;5;241;43m*\u001b[39;49m\u001b[38;5;241;43m*\u001b[39;49m\u001b[43mkwargs\u001b[49m\u001b[43m)\u001b[49m\n",
      "File \u001b[1;32mc:\\Users\\dmgtr\\AppData\\Local\\Programs\\Python\\Python311\\Lib\\site-packages\\torch\\nn\\modules\\module.py:1527\u001b[0m, in \u001b[0;36mModule._call_impl\u001b[1;34m(self, *args, **kwargs)\u001b[0m\n\u001b[0;32m   1522\u001b[0m \u001b[38;5;66;03m# If we don't have any hooks, we want to skip the rest of the logic in\u001b[39;00m\n\u001b[0;32m   1523\u001b[0m \u001b[38;5;66;03m# this function, and just call forward.\u001b[39;00m\n\u001b[0;32m   1524\u001b[0m \u001b[38;5;28;01mif\u001b[39;00m \u001b[38;5;129;01mnot\u001b[39;00m (\u001b[38;5;28mself\u001b[39m\u001b[38;5;241m.\u001b[39m_backward_hooks \u001b[38;5;129;01mor\u001b[39;00m \u001b[38;5;28mself\u001b[39m\u001b[38;5;241m.\u001b[39m_backward_pre_hooks \u001b[38;5;129;01mor\u001b[39;00m \u001b[38;5;28mself\u001b[39m\u001b[38;5;241m.\u001b[39m_forward_hooks \u001b[38;5;129;01mor\u001b[39;00m \u001b[38;5;28mself\u001b[39m\u001b[38;5;241m.\u001b[39m_forward_pre_hooks\n\u001b[0;32m   1525\u001b[0m         \u001b[38;5;129;01mor\u001b[39;00m _global_backward_pre_hooks \u001b[38;5;129;01mor\u001b[39;00m _global_backward_hooks\n\u001b[0;32m   1526\u001b[0m         \u001b[38;5;129;01mor\u001b[39;00m _global_forward_hooks \u001b[38;5;129;01mor\u001b[39;00m _global_forward_pre_hooks):\n\u001b[1;32m-> 1527\u001b[0m     \u001b[38;5;28;01mreturn\u001b[39;00m \u001b[43mforward_call\u001b[49m\u001b[43m(\u001b[49m\u001b[38;5;241;43m*\u001b[39;49m\u001b[43margs\u001b[49m\u001b[43m,\u001b[49m\u001b[43m \u001b[49m\u001b[38;5;241;43m*\u001b[39;49m\u001b[38;5;241;43m*\u001b[39;49m\u001b[43mkwargs\u001b[49m\u001b[43m)\u001b[49m\n\u001b[0;32m   1529\u001b[0m \u001b[38;5;28;01mtry\u001b[39;00m:\n\u001b[0;32m   1530\u001b[0m     result \u001b[38;5;241m=\u001b[39m \u001b[38;5;28;01mNone\u001b[39;00m\n",
      "File \u001b[1;32mc:\\Users\\dmgtr\\OneDrive - Ecole Polytechnique\\3A\\P2\\MAP588 - EA CondOT\\CondOT\\icnnet.py:61\u001b[0m, in \u001b[0;36mICNNet.forward\u001b[1;34m(self, x, c)\u001b[0m\n\u001b[0;32m     59\u001b[0m     u \u001b[38;5;241m=\u001b[39m \u001b[38;5;28mself\u001b[39m\u001b[38;5;241m.\u001b[39mlayers_v[i](u)\n\u001b[0;32m     60\u001b[0m \u001b[38;5;28;01melse\u001b[39;00m : \n\u001b[1;32m---> 61\u001b[0m     z \u001b[38;5;241m=\u001b[39m \u001b[38;5;28;43mself\u001b[39;49m\u001b[38;5;241;43m.\u001b[39;49m\u001b[43mlayers_activation\u001b[49m\u001b[43m[\u001b[49m\u001b[43mi\u001b[49m\u001b[43m]\u001b[49m\u001b[43m(\u001b[49m\u001b[38;5;28;43mself\u001b[39;49m\u001b[38;5;241;43m.\u001b[39;49m\u001b[43mlayers_z\u001b[49m\u001b[43m[\u001b[49m\u001b[43mi\u001b[49m\u001b[43m]\u001b[49m\u001b[43m(\u001b[49m\u001b[43mz\u001b[49m\u001b[43m \u001b[49m\u001b[38;5;241;43m*\u001b[39;49m\u001b[43m \u001b[49m\u001b[38;5;28;43mself\u001b[39;49m\u001b[38;5;241;43m.\u001b[39;49m\u001b[43mlayers_zu\u001b[49m\u001b[43m[\u001b[49m\u001b[43mi\u001b[49m\u001b[43m]\u001b[49m\u001b[43m(\u001b[49m\u001b[43mu\u001b[49m\u001b[43m)\u001b[49m\u001b[43m)\u001b[49m\u001b[43m \u001b[49m\u001b[38;5;241;43m+\u001b[39;49m\u001b[43m \u001b[49m\u001b[38;5;28;43mself\u001b[39;49m\u001b[38;5;241;43m.\u001b[39;49m\u001b[43mlayers_x\u001b[49m\u001b[43m[\u001b[49m\u001b[43mi\u001b[49m\u001b[43m]\u001b[49m\u001b[43m(\u001b[49m\u001b[38;5;28;43minput\u001b[39;49m\u001b[43m \u001b[49m\u001b[38;5;241;43m*\u001b[39;49m\u001b[43m \u001b[49m\u001b[38;5;28;43mself\u001b[39;49m\u001b[38;5;241;43m.\u001b[39;49m\u001b[43mlayers_xu\u001b[49m\u001b[43m[\u001b[49m\u001b[43mi\u001b[49m\u001b[43m]\u001b[49m\u001b[43m(\u001b[49m\u001b[43mu\u001b[49m\u001b[43m)\u001b[49m\u001b[43m)\u001b[49m\u001b[43m \u001b[49m\u001b[38;5;241;43m+\u001b[39;49m\u001b[43m \u001b[49m\u001b[38;5;28;43mself\u001b[39;49m\u001b[38;5;241;43m.\u001b[39;49m\u001b[43mlayers_u\u001b[49m\u001b[43m[\u001b[49m\u001b[43mi\u001b[49m\u001b[43m]\u001b[49m\u001b[43m(\u001b[49m\u001b[43mu\u001b[49m\u001b[43m)\u001b[49m\u001b[43m)\u001b[49m\n\u001b[0;32m     62\u001b[0m     u \u001b[38;5;241m=\u001b[39m \u001b[38;5;28mself\u001b[39m\u001b[38;5;241m.\u001b[39mlayers_v[i](u)\n\u001b[0;32m     65\u001b[0m \u001b[38;5;66;03m# z_shape = z.shape\u001b[39;00m\n\u001b[0;32m     66\u001b[0m \u001b[38;5;66;03m# z = z.view(-1, z.shape[-1])\u001b[39;00m\n\u001b[0;32m     67\u001b[0m \u001b[38;5;66;03m# # Apply batch normalization\u001b[39;00m\n\u001b[1;32m   (...)\u001b[0m\n\u001b[0;32m     76\u001b[0m \u001b[38;5;66;03m# # Reshape accordingly\u001b[39;00m\n\u001b[0;32m     77\u001b[0m \u001b[38;5;66;03m# u = u.view(u_shape)\u001b[39;00m\n",
      "File \u001b[1;32mc:\\Users\\dmgtr\\AppData\\Local\\Programs\\Python\\Python311\\Lib\\site-packages\\torch\\nn\\modules\\module.py:1518\u001b[0m, in \u001b[0;36mModule._wrapped_call_impl\u001b[1;34m(self, *args, **kwargs)\u001b[0m\n\u001b[0;32m   1516\u001b[0m     \u001b[38;5;28;01mreturn\u001b[39;00m \u001b[38;5;28mself\u001b[39m\u001b[38;5;241m.\u001b[39m_compiled_call_impl(\u001b[38;5;241m*\u001b[39margs, \u001b[38;5;241m*\u001b[39m\u001b[38;5;241m*\u001b[39mkwargs)  \u001b[38;5;66;03m# type: ignore[misc]\u001b[39;00m\n\u001b[0;32m   1517\u001b[0m \u001b[38;5;28;01melse\u001b[39;00m:\n\u001b[1;32m-> 1518\u001b[0m     \u001b[38;5;28;01mreturn\u001b[39;00m \u001b[38;5;28;43mself\u001b[39;49m\u001b[38;5;241;43m.\u001b[39;49m\u001b[43m_call_impl\u001b[49m\u001b[43m(\u001b[49m\u001b[38;5;241;43m*\u001b[39;49m\u001b[43margs\u001b[49m\u001b[43m,\u001b[49m\u001b[43m \u001b[49m\u001b[38;5;241;43m*\u001b[39;49m\u001b[38;5;241;43m*\u001b[39;49m\u001b[43mkwargs\u001b[49m\u001b[43m)\u001b[49m\n",
      "File \u001b[1;32mc:\\Users\\dmgtr\\AppData\\Local\\Programs\\Python\\Python311\\Lib\\site-packages\\torch\\nn\\modules\\module.py:1527\u001b[0m, in \u001b[0;36mModule._call_impl\u001b[1;34m(self, *args, **kwargs)\u001b[0m\n\u001b[0;32m   1522\u001b[0m \u001b[38;5;66;03m# If we don't have any hooks, we want to skip the rest of the logic in\u001b[39;00m\n\u001b[0;32m   1523\u001b[0m \u001b[38;5;66;03m# this function, and just call forward.\u001b[39;00m\n\u001b[0;32m   1524\u001b[0m \u001b[38;5;28;01mif\u001b[39;00m \u001b[38;5;129;01mnot\u001b[39;00m (\u001b[38;5;28mself\u001b[39m\u001b[38;5;241m.\u001b[39m_backward_hooks \u001b[38;5;129;01mor\u001b[39;00m \u001b[38;5;28mself\u001b[39m\u001b[38;5;241m.\u001b[39m_backward_pre_hooks \u001b[38;5;129;01mor\u001b[39;00m \u001b[38;5;28mself\u001b[39m\u001b[38;5;241m.\u001b[39m_forward_hooks \u001b[38;5;129;01mor\u001b[39;00m \u001b[38;5;28mself\u001b[39m\u001b[38;5;241m.\u001b[39m_forward_pre_hooks\n\u001b[0;32m   1525\u001b[0m         \u001b[38;5;129;01mor\u001b[39;00m _global_backward_pre_hooks \u001b[38;5;129;01mor\u001b[39;00m _global_backward_hooks\n\u001b[0;32m   1526\u001b[0m         \u001b[38;5;129;01mor\u001b[39;00m _global_forward_hooks \u001b[38;5;129;01mor\u001b[39;00m _global_forward_pre_hooks):\n\u001b[1;32m-> 1527\u001b[0m     \u001b[38;5;28;01mreturn\u001b[39;00m \u001b[43mforward_call\u001b[49m\u001b[43m(\u001b[49m\u001b[38;5;241;43m*\u001b[39;49m\u001b[43margs\u001b[49m\u001b[43m,\u001b[49m\u001b[43m \u001b[49m\u001b[38;5;241;43m*\u001b[39;49m\u001b[38;5;241;43m*\u001b[39;49m\u001b[43mkwargs\u001b[49m\u001b[43m)\u001b[49m\n\u001b[0;32m   1529\u001b[0m \u001b[38;5;28;01mtry\u001b[39;00m:\n\u001b[0;32m   1530\u001b[0m     result \u001b[38;5;241m=\u001b[39m \u001b[38;5;28;01mNone\u001b[39;00m\n",
      "File \u001b[1;32mc:\\Users\\dmgtr\\AppData\\Local\\Programs\\Python\\Python311\\Lib\\site-packages\\torch\\nn\\modules\\activation.py:840\u001b[0m, in \u001b[0;36mSoftplus.forward\u001b[1;34m(self, input)\u001b[0m\n\u001b[0;32m    839\u001b[0m \u001b[38;5;28;01mdef\u001b[39;00m \u001b[38;5;21mforward\u001b[39m(\u001b[38;5;28mself\u001b[39m, \u001b[38;5;28minput\u001b[39m: Tensor) \u001b[38;5;241m-\u001b[39m\u001b[38;5;241m>\u001b[39m Tensor:\n\u001b[1;32m--> 840\u001b[0m     \u001b[38;5;28;01mreturn\u001b[39;00m \u001b[43mF\u001b[49m\u001b[38;5;241;43m.\u001b[39;49m\u001b[43msoftplus\u001b[49m\u001b[43m(\u001b[49m\u001b[38;5;28;43minput\u001b[39;49m\u001b[43m,\u001b[49m\u001b[43m \u001b[49m\u001b[38;5;28;43mself\u001b[39;49m\u001b[38;5;241;43m.\u001b[39;49m\u001b[43mbeta\u001b[49m\u001b[43m,\u001b[49m\u001b[43m \u001b[49m\u001b[38;5;28;43mself\u001b[39;49m\u001b[38;5;241;43m.\u001b[39;49m\u001b[43mthreshold\u001b[49m\u001b[43m)\u001b[49m\n",
      "\u001b[1;31mKeyboardInterrupt\u001b[0m: "
     ]
    }
   ],
   "source": [
    "epochs = 100\n",
    "train_freq_g = 10\n",
    "\n",
    "# Define the loss function and the optimizer\n",
    "optimizer_f = optim.Adam(ICNNf.parameters(), lr = 0.0001)\n",
    "optimizer_g = optim.Adam(ICNNg.parameters(), lr = 0.0001)\n",
    "\n",
    "for epoch in range(epochs):\n",
    "    for freq in range(train_freq_g) :\n",
    "        for x, c, y in dataloader:\n",
    "            # Optimizing ICNNg\n",
    "            optimizer_f.zero_grad() # Zero the gradients\n",
    "            optimizer_g.zero_grad() # Zero the gradients\n",
    "\n",
    "            x.requires_grad_(True)\n",
    "            y.requires_grad_(True)\n",
    "            c.requires_grad_(True)\n",
    "\n",
    "            output_g = ICNNg(y, c)\n",
    "            grad_g = torch.autograd.grad(output_g, y, grad_outputs=torch.ones_like(output_g), create_graph=True)[0]\n",
    "\n",
    "            loss_g = ICNNf(grad_g, c) - torch.sum(y * grad_g, dim=-1, keepdim=True)\n",
    "            loss_g = loss_g.mean(dim=(1, 2)).mean()\n",
    "\n",
    "            #print('min f(grad_g, c)', ICNNf(grad_g, c)[0][0])\n",
    "            #print('max f(grad_g, c)', torch.sum(y * grad_g, dim=-1, keepdim=True)[0][0])\n",
    "\n",
    "            loss_g.backward() # Backward pass\n",
    "            optimizer_g.step() # Update the parameters\n",
    "\n",
    "            for layers_k in ICNNg.layers_z:\n",
    "                for param in layers_k.parameters():\n",
    "                    param.data.clamp_min_(0)\n",
    "                    \n",
    "            # for name, parameter in ICNNg.named_parameters():\n",
    "            #     if parameter.requires_grad and parameter.grad is not None:\n",
    "            #         grad_norm = parameter.grad.norm().item()\n",
    "            #         print(f\"Gradient norm for {name}: {grad_norm}\")\n",
    "                    \n",
    "            #print(f\"training g {freq+1}/{train_freq_g} loss_g: {loss_g.item()}\")\n",
    "\n",
    "    for x, c, y in dataloader:\n",
    "        optimizer_f.zero_grad() # Zero the gradients\n",
    "        optimizer_g.zero_grad()\n",
    "\n",
    "        x.requires_grad_(True)\n",
    "        y.requires_grad_(True)\n",
    "        c.requires_grad_(True)\n",
    "    \n",
    "        output_g = ICNNg(y, c)\n",
    "        grad_g = torch.autograd.grad(outputs=output_g, inputs=y, grad_outputs=torch.ones_like(output_g), create_graph=True)[0]\n",
    "\n",
    "        #print('ICNNf(grad_g, c)', ICNNf(grad_g, c))\n",
    "\n",
    "        loss_f = ICNNf(x, c) - ICNNf(grad_g, c)\n",
    "        #loss_f =  torch.mean(loss_f)\n",
    "        loss_f =   torch.mean(loss_f) #page 24, f is updated by fixing g and maximizing (15) with a single iteration\n",
    "\n",
    "        #print('max f(grad_g, c)', ICNNf(grad_g, c)[0][0])\n",
    "\n",
    "        loss_f.backward() # Backward pass\n",
    "        optimizer_f.step()\n",
    "        \n",
    "        for layers_k in ICNNf.layers_z:\n",
    "                for param in layers_k.parameters():\n",
    "                    param.data.clamp_min_(0)\n",
    "\n",
    "        # for name, parameter in ICNNf.named_parameters():\n",
    "        #     if parameter.requires_grad and parameter.grad is not None:\n",
    "        #         grad_norm = parameter.grad.norm().item()\n",
    "        #         print(f\"Gradient norm for {name}: {grad_norm}\")\n",
    "        \n",
    "    print(f\"Epoch {epoch+1}/{epochs} loss_g: {loss_g.item()}, loss_f: {loss_f.item()}\")"
   ]
  },
  {
   "cell_type": "code",
   "execution_count": 28,
   "metadata": {},
   "outputs": [],
   "source": [
    "filename_pth_f = 'ICNNf_TR.pth'\n",
    "filename_pth_g = 'ICNNg_TR.pth'\n",
    "\n",
    "torch.save(ICNNf.state_dict(), filename_pth_f)\n",
    "torch.save(ICNNg.state_dict(), filename_pth_g)"
   ]
  },
  {
   "cell_type": "code",
   "execution_count": null,
   "metadata": {},
   "outputs": [
    {
     "data": {
      "text/plain": [
       "<All keys matched successfully>"
      ]
     },
     "execution_count": 45,
     "metadata": {},
     "output_type": "execute_result"
    }
   ],
   "source": [
    "ICNNf = ICNNet(input_size = 2, layer_sizes = [input_size,64,64,64,64,output_size], context_layer_sizes=[input_size,64,64,64,64,output_size])\n",
    "ICNNf.load_state_dict(torch.load(filename_pth_f))\n",
    "\n",
    "ICNNg = ICNNet(input_size = 2, layer_sizes = [output_size,64,64,64,64,input_size], context_layer_sizes=[output_size,64,64,64,64,input_size])\n",
    "ICNNg.load_state_dict(torch.load(filename_pth_g))"
   ]
  },
  {
   "cell_type": "code",
   "execution_count": 31,
   "metadata": {},
   "outputs": [
    {
     "data": {
      "image/png": "[encoded data removed]",
      "text/plain": [
       "<Figure size 640x480 with 1 Axes>"
      ]
     },
     "metadata": {},
     "output_type": "display_data"
    },
    {
     "data": {
      "image/png": "[encoded data removed]",
      "text/plain": [
       "<Figure size 640x480 with 1 Axes>"
      ]
     },
     "metadata": {},
     "output_type": "display_data"
    }
   ],
   "source": [
    "X = dataloader.dataset.X\n",
    "Y = dataloader.dataset.Y\n",
    "C = dataloader.dataset.C\n",
    "\n",
    "#Calcul de la dérivée du PICNN\n",
    "test = 50\n",
    "x_i = X[test, :, :]\n",
    "y_i = Y[test, :, :]\n",
    "c_i = C[test, :, :]\n",
    "\n",
    "\n",
    "y_i.requires_grad_(True)\n",
    "x_i.requires_grad_(True)\n",
    "c_i.requires_grad_(True)    \n",
    "\n",
    "output_model_f = ICNNf(x_i, c_i)\n",
    "grad_model_f = torch.autograd.grad(outputs=output_model_f, inputs=x_i, grad_outputs=torch.ones_like(output_model), create_graph=True)[0]\n",
    "\n",
    "output_model_g = ICNNg(y_i, c_i)\n",
    "grad_model_g = torch.autograd.grad(outputs=output_model_g, inputs=y_i, grad_outputs=torch.ones_like(output_model), create_graph=True)[0]\n",
    "\n",
    "\n",
    "plt.hist(X[test, :, 0],  bins=15, label = 'X', density = True)\n",
    "plt.hist(grad_model_g[:, 0].detach().numpy(),  bins=15, label = 'grad_model g', density = True, alpha = 0.5)\n",
    "plt.legend()\n",
    "plt.show()\n",
    "\n",
    "plt.hist(Y[test, :, 0],  bins=15, label = 'Y', density = True)\n",
    "plt.hist(grad_model_f[:, 0].detach().numpy(),  bins=15, label = 'grad_model f', density = True, alpha = 0.5)\n",
    "plt.legend()\n",
    "plt.show()"
   ]
  }
 ],
 "metadata": {
  "kernelspec": {
   "display_name": "Python 3",
   "language": "python",
   "name": "python3"
  },
  "language_info": {
   "codemirror_mode": {
    "name": "ipython",
    "version": 3
   },
   "file_extension": ".py",
   "mimetype": "text/x-python",
   "name": "python",
   "nbconvert_exporter": "python",
   "pygments_lexer": "ipython3",
   "version": "3.11.6"
  }
 },
 "nbformat": 4,
 "nbformat_minor": 2
}
